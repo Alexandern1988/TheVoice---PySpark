{
 "cells": [
  {
   "cell_type": "code",
   "execution_count": 2,
   "metadata": {},
   "outputs": [],
   "source": [
    "import pandas as pd \n",
    "import numpy as np\n",
    "import sqlalchemy\n",
    "import pyodbc\n",
    "\n",
    "import findspark\n",
    "findspark.init()\n",
    "findspark.find()\n",
    "\n",
    "from pyspark.sql import SparkSession\n",
    "import pyspark.sql.functions as f\n",
    "import pyspark.sql.window as w\n",
    "import pyspark.sql.types as t"
   ]
  },
  {
   "cell_type": "code",
   "execution_count": 3,
   "metadata": {},
   "outputs": [],
   "source": [
    "spark = SparkSession.builder.appName('TheVoice-ETL').getOrCreate()"
   ]
  },
  {
   "cell_type": "code",
   "execution_count": 4,
   "metadata": {},
   "outputs": [],
   "source": [
    "# Load into dataframes\n",
    "call_type_mrr =         spark.read.parquet(r'C:\\Users\\alex\\Desktop\\TheVoice - PySpark\\parquet_files\\call_type.parquet')\n",
    "countries_mrr =         spark.read.parquet(r'C:\\Users\\alex\\Desktop\\TheVoice - PySpark\\parquet_files\\countries.parquet')\n",
    "customer_mrr =          spark.read.parquet(r'C:\\Users\\alex\\Desktop\\TheVoice - PySpark\\parquet_files\\customer.parquet')\n",
    "customer_invoice_mrr =  spark.read.parquet(r'C:\\Users\\alex\\Desktop\\TheVoice - PySpark\\parquet_files\\customer_invoice.parquet')\n",
    "customer_lines_mrr =    spark.read.parquet(r'C:\\Users\\alex\\Desktop\\TheVoice - PySpark\\parquet_files\\customer_lines.parquet')\n",
    "opfileopp_mrr =         spark.read.parquet(r'C:\\Users\\alex\\Desktop\\TheVoice - PySpark\\parquet_files\\pfileopp.parquet')\n",
    "package_catalog_mrr =   spark.read.parquet(r'C:\\Users\\alex\\Desktop\\TheVoice - PySpark\\parquet_files\\package_catalog.parquet')\n",
    "usage_main_mrr =        spark.read.parquet(r'C:\\Users\\alex\\Desktop\\TheVoice - PySpark\\parquet_files\\usage_main.parquet')\n",
    "xxCountryType_mrr =     spark.read.parquet(r'C:\\Users\\alex\\Desktop\\TheVoice - PySpark\\parquet_files\\xxCountryType.parquet')"
   ]
  },
  {
   "cell_type": "code",
   "execution_count": 24,
   "metadata": {},
   "outputs": [
    {
     "name": "stdout",
     "output_type": "stream",
     "text": [
      "root\n",
      " |-- call_type_code: string (nullable = true)\n",
      " |-- call_type_desc: string (nullable = true)\n",
      " |-- priceperminuter: double (nullable = true)\n",
      " |-- call_type: string (nullable = true)\n",
      "\n"
     ]
    }
   ],
   "source": [
    "call_type_mrr.printSchema()"
   ]
  },
  {
   "cell_type": "code",
   "execution_count": 48,
   "metadata": {},
   "outputs": [],
   "source": [
    "# DimCallTypes staging\n",
    "\n",
    "# variable set\n",
    "price_per_minute = 0.5\n",
    "\n",
    "# window for the key column\n",
    "windowSpec_callType = w.Window.orderBy('call_type_code')\n",
    "\n",
    "# final df \n",
    "DimCallTypes_stg = call_type_mrr.withColumn('KeyCallType', f.row_number().over(windowSpec_callType) + 1000)\\\n",
    "    .withColumnRenamed('call_type_code', 'DescCallTypeCode')\\\n",
    "    .withColumnRenamed('call_type_desc', 'DescCallType')\\\n",
    "    .withColumn('DescFullCallType', \n",
    "        f.concat_ws('-', f.col('DescCallTypeCode'), f.col('DescCallType')))\\\n",
    "    .withColumn('DescCallTypePriceCategory', f.when(f.col('priceperminuter') > price_per_minute, 'Discounted Price').otherwise('Normal Price'))\\\n",
    "    .withColumnRenamed('call_type', 'DescCallTypeCategory')\\\n",
    "    .select('KeyCallType', 'DescCallTypeCode', 'DescCallType', 'DescFullCallType', 'DescCallTypePriceCategory', 'DescCallTypeCategory')#.show()\n"
   ]
  },
  {
   "cell_type": "code",
   "execution_count": null,
   "metadata": {},
   "outputs": [],
   "source": [
    "countries_mrr.select('COUNTRY_CODE', 'REGION', 'AREA').join(xxCountryType_mrr.select(f.expr('COUNTRY_CODE as COUNTRY_CODE_2'),'COUNTRY_PRE'), countries_mrr['COUNTRY_CODE'] == xxCountryType_mrr['COUNTRY_CODE'], how='inner')\\\n",
    "    .withColumnRenamed('COUNTRY_PRE', 'KeyCountry')\\\n",
    "    .withColumnRenamed('COUNTRY_CODE', 'DescCountry')\\\n",
    "    .withColumnRenamed('REGION', 'DescRegion')\\\n",
    "    .withColumnRenamed('AREA', 'DescArea')\\\n",
    "    .select('KeyCountry', 'DescCountry', 'DescRegion', 'DescArea').show(5)"
   ]
  },
  {
   "cell_type": "code",
   "execution_count": 74,
   "metadata": {},
   "outputs": [],
   "source": [
    "# DimCountries staging\n",
    "\n",
    "# select proper column and rename the country code column\n",
    "xxCountryType_mrr = xxCountryType_mrr.select('COUNTRY_CODE', 'COUNTRY_PRE').withColumnRenamed('COUNTRY_CODE','COUNTRY_CODE2')\n",
    "\n",
    "# final df\n",
    "DimCountries_stg = countries_mrr.select('COUNTRY_CODE', 'REGION', 'AREA').join(\n",
    "    xxCountryType_mrr,\n",
    "    countries_mrr['COUNTRY_CODE'] == xxCountryType_mrr['COUNTRY_CODE2'],\n",
    "    how='inner')\\\n",
    "    .withColumnRenamed('COUNTRY_PRE', 'KeyCountry')\\\n",
    "    .withColumnRenamed('COUNTRY_CODE', 'DescCountry')\\\n",
    "    .withColumnRenamed('REGION', 'DescRegion')\\\n",
    "    .withColumnRenamed('AREA', 'DescArea')\\\n",
    "    .select('KeyCountry', 'DescCountry', 'DescRegion', 'DescArea')#.show(5)"
   ]
  },
  {
   "cell_type": "code",
   "execution_count": 75,
   "metadata": {},
   "outputs": [
    {
     "name": "stdout",
     "output_type": "stream",
     "text": [
      "+----------+--------------------+----------+-----------------+\n",
      "|KeyCountry|         DescCountry|DescRegion|         DescArea|\n",
      "+----------+--------------------+----------+-----------------+\n",
      "|        93|         Afghanistan|      Asia|       South Asia|\n",
      "|       355|             Albania|    Europe|South East Europe|\n",
      "|       213|             Algeria|    Africa|  Northern Africa|\n",
      "|       376|             Andorra|    Europe|South West Europe|\n",
      "|       244|              Angola|    Africa|  Southern Africa|\n",
      "|        54|           Argentina|  Americas|    South America|\n",
      "|       374|             Armenia|      Asia|  South West Asia|\n",
      "|       297|               Aruba|  Americas|      West Indies|\n",
      "|        61|           Australia|   Oceania|          Pacific|\n",
      "|        43|             Austria|    Europe|   Central Europe|\n",
      "|       994|          Azerbaijan|      Asia|  South West Asia|\n",
      "|       973|             Bahrain|      Asia|  South West Asia|\n",
      "|       880|          Bangladesh|      Asia|       South Asia|\n",
      "|       375|             Belarus|    Europe|   Eastern Europe|\n",
      "|        32|             Belgium|    Europe|   Western Europe|\n",
      "|       501|              Belize|  Americas|  Central America|\n",
      "|       229|               Benin|    Africa|   Western Africa|\n",
      "|       975|              Bhutan|      Asia|       South Asia|\n",
      "|       591|             Bolivia|  Americas|    South America|\n",
      "|       387|Bosnia and Herzeg...|    Europe|South East Europe|\n",
      "+----------+--------------------+----------+-----------------+\n",
      "only showing top 20 rows\n",
      "\n"
     ]
    }
   ],
   "source": []
  }
 ],
 "metadata": {
  "kernelspec": {
   "display_name": "spark_env_3_11",
   "language": "python",
   "name": "python3"
  },
  "language_info": {
   "codemirror_mode": {
    "name": "ipython",
    "version": 3
   },
   "file_extension": ".py",
   "mimetype": "text/x-python",
   "name": "python",
   "nbconvert_exporter": "python",
   "pygments_lexer": "ipython3",
   "version": "3.11.6"
  }
 },
 "nbformat": 4,
 "nbformat_minor": 2
}
