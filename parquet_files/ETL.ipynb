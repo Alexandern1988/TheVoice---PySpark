{
 "cells": [
  {
   "cell_type": "code",
   "execution_count": 1,
   "metadata": {},
   "outputs": [],
   "source": [
    "import pandas as pd \n",
    "import numpy as np\n",
    "import sqlalchemy\n",
    "import pyodbc\n",
    "\n",
    "import findspark\n",
    "findspark.init()\n",
    "findspark.find()\n",
    "\n",
    "from pyspark.sql import SparkSession\n",
    "import pyspark.sql.functions as f\n",
    "import pyspark.sql.window as w\n",
    "import pyspark.sql.types as t"
   ]
  },
  {
   "cell_type": "code",
   "execution_count": 2,
   "metadata": {},
   "outputs": [],
   "source": [
    "spark = SparkSession.builder.appName('TheVoice-ETL').getOrCreate()"
   ]
  },
  {
   "cell_type": "code",
   "execution_count": 4,
   "metadata": {},
   "outputs": [],
   "source": [
    "# Load into dataframes\n",
    "call_type_mrr =         spark.read.parquet(r'C:\\Users\\alex\\Desktop\\TheVoice - PySpark\\parquet_files\\call_type.parquet')\n",
    "countries_mrr =         spark.read.parquet(r'C:\\Users\\alex\\Desktop\\TheVoice - PySpark\\parquet_files\\countries.parquet')\n",
    "customer_mrr =          spark.read.parquet(r'C:\\Users\\alex\\Desktop\\TheVoice - PySpark\\parquet_files\\customer.parquet')\n",
    "customer_invoice_mrr =  spark.read.parquet(r'C:\\Users\\alex\\Desktop\\TheVoice - PySpark\\parquet_files\\customer_invoice.parquet')\n",
    "customer_lines_mrr =    spark.read.parquet(r'C:\\Users\\alex\\Desktop\\TheVoice - PySpark\\parquet_files\\customer_lines.parquet')\n",
    "opfileopp_mrr =         spark.read.parquet(r'C:\\Users\\alex\\Desktop\\TheVoice - PySpark\\parquet_files\\pfileopp.parquet')\n",
    "package_catalog_mrr =   spark.read.parquet(r'C:\\Users\\alex\\Desktop\\TheVoice - PySpark\\parquet_files\\package_catalog.parquet')\n",
    "usage_main_mrr =        spark.read.parquet(r'C:\\Users\\alex\\Desktop\\TheVoice - PySpark\\parquet_files\\usage_main.parquet')\n",
    "xxCountryType_mrr =     spark.read.parquet(r'C:\\Users\\alex\\Desktop\\TheVoice - PySpark\\parquet_files\\xxCountryType.parquet')"
   ]
  },
  {
   "cell_type": "code",
   "execution_count": 5,
   "metadata": {},
   "outputs": [
    {
     "name": "stdout",
     "output_type": "stream",
     "text": [
      "root\n",
      " |-- call_type_code: string (nullable = true)\n",
      " |-- call_type_desc: string (nullable = true)\n",
      " |-- priceperminuter: double (nullable = true)\n",
      " |-- call_type: string (nullable = true)\n",
      "\n"
     ]
    }
   ],
   "source": []
  }
 ],
 "metadata": {
  "kernelspec": {
   "display_name": "spark_env_3_11",
   "language": "python",
   "name": "python3"
  },
  "language_info": {
   "codemirror_mode": {
    "name": "ipython",
    "version": 3
   },
   "file_extension": ".py",
   "mimetype": "text/x-python",
   "name": "python",
   "nbconvert_exporter": "python",
   "pygments_lexer": "ipython3",
   "version": "3.11.6"
  }
 },
 "nbformat": 4,
 "nbformat_minor": 2
}
