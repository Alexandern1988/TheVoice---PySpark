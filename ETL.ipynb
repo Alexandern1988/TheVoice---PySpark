{
 "cells": [
  {
   "cell_type": "code",
   "execution_count": 14,
   "metadata": {},
   "outputs": [],
   "source": [
    "import pandas as pd \n",
    "import numpy as np\n",
    "import sqlalchemy\n",
    "import pyodbc\n",
    "\n",
    "import findspark\n",
    "findspark.init()\n",
    "findspark.find()\n",
    "\n",
    "from pyspark.sql import SparkSession\n",
    "import pyspark.sql.functions as f\n",
    "import pyspark.sql.window as w\n",
    "import pyspark.sql.types as t"
   ]
  },
  {
   "cell_type": "code",
   "execution_count": 15,
   "metadata": {},
   "outputs": [],
   "source": [
    "spark = SparkSession.builder.appName('TheVoice-ETL').getOrCreate()"
   ]
  },
  {
   "cell_type": "code",
   "execution_count": 16,
   "metadata": {},
   "outputs": [],
   "source": [
    "# Load into dataframes\n",
    "call_type_mrr =         spark.read.parquet(r'C:\\Users\\alex\\Desktop\\TheVoice - PySpark\\TheVoice - parquet_files\\call_type.parquet')\n",
    "countries_mrr =         spark.read.parquet(r'C:\\Users\\alex\\Desktop\\TheVoice - PySpark\\TheVoice - parquet_files\\countries.parquet')\n",
    "customer_mrr =          spark.read.parquet(r'C:\\Users\\alex\\Desktop\\TheVoice - PySpark\\TheVoice - parquet_files\\customer.parquet')\n",
    "customer_invoice_mrr =  spark.read.parquet(r'C:\\Users\\alex\\Desktop\\TheVoice - PySpark\\TheVoice - parquet_files\\customer_invoice.parquet')\n",
    "customer_lines_mrr =    spark.read.parquet(r'C:\\Users\\alex\\Desktop\\TheVoice - PySpark\\TheVoice - parquet_files\\customer_lines.parquet')\n",
    "opfileopp_mrr =         spark.read.parquet(r'C:\\Users\\alex\\Desktop\\TheVoice - PySpark\\TheVoice - parquet_files\\pfileopp.parquet')\n",
    "package_catalog_mrr =   spark.read.parquet(r'C:\\Users\\alex\\Desktop\\TheVoice - PySpark\\TheVoice - parquet_files\\package_catalog.parquet')\n",
    "usage_main_mrr =        spark.read.parquet(r'C:\\Users\\alex\\Desktop\\TheVoice - PySpark\\TheVoice - parquet_files\\usage_main.parquet')\n",
    "xxCountryType_mrr =     spark.read.parquet(r'C:\\Users\\alex\\Desktop\\TheVoice - PySpark\\TheVoice - parquet_files\\xxCountryType.parquet')"
   ]
  },
  {
   "cell_type": "code",
   "execution_count": 17,
   "metadata": {},
   "outputs": [],
   "source": [
    "# DimCallTypes staging\n",
    "\n",
    "# variable set\n",
    "price_per_minute = 0.5\n",
    "\n",
    "# window for the key column\n",
    "windowSpec_callType = w.Window.orderBy('call_type_code')\n",
    "\n",
    "# final df \n",
    "DimCallTypes_stg = call_type_mrr.withColumn('KeyCallType', f.row_number().over(windowSpec_callType) + 1000)\\\n",
    "    .withColumnRenamed('call_type_code', 'DescCallTypeCode')\\\n",
    "    .withColumnRenamed('call_type_desc', 'DescCallType')\\\n",
    "    .withColumn('DescFullCallType', \n",
    "        f.concat_ws('-', f.col('DescCallTypeCode'), f.col('DescCallType')))\\\n",
    "    .withColumn('DescCallTypePriceCategory', f.when(f.col('priceperminuter') > price_per_minute, 'Discounted Price').otherwise('Normal Price'))\\\n",
    "    .withColumnRenamed('call_type', 'DescCallTypeCategory')\\\n",
    "    .select('KeyCallType', 'DescCallTypeCode', 'DescCallType', 'DescFullCallType', 'DescCallTypePriceCategory', 'DescCallTypeCategory')#.show()\n"
   ]
  },
  {
   "cell_type": "code",
   "execution_count": 18,
   "metadata": {},
   "outputs": [],
   "source": [
    "# DimCountries staging\n",
    "\n",
    "# select proper column and rename the country code column\n",
    "xxCountryType_mrr = xxCountryType_mrr.select('COUNTRY_CODE', 'COUNTRY_PRE').withColumnRenamed('COUNTRY_CODE','COUNTRY_CODE2')\n",
    "\n",
    "# final df\n",
    "DimCountries_stg = countries_mrr.select('COUNTRY_CODE', 'REGION', 'AREA').join(\n",
    "    xxCountryType_mrr,\n",
    "    countries_mrr['COUNTRY_CODE'] == xxCountryType_mrr['COUNTRY_CODE2'],\n",
    "    how='inner')\\\n",
    "    .withColumnRenamed('COUNTRY_PRE', 'KeyCountry')\\\n",
    "    .withColumnRenamed('COUNTRY_CODE', 'DescCountry')\\\n",
    "    .withColumnRenamed('REGION', 'DescRegion')\\\n",
    "    .withColumnRenamed('AREA', 'DescArea')\\\n",
    "    .select('KeyCountry', 'DescCountry', 'DescRegion', 'DescArea')#.show(5)"
   ]
  },
  {
   "cell_type": "code",
   "execution_count": 19,
   "metadata": {},
   "outputs": [],
   "source": [
    "# DimPackageCatalog staging\n",
    "DimPackageCatalog_stg = package_catalog_mrr.withColumnRenamed('PACKAGE_NUM','KeyPackage')\\\n",
    ".withColumnRenamed('pack_desc', 'DescPackage')\\\n",
    ".withColumnRenamed('createdate', 'DatePackageCreation')\\\n",
    ".withColumnRenamed('enddate', 'DatePackageEnd')\\\n",
    ".withColumn('DescPackageStatus',\n",
    "    f.when(f.col('status') == 1, 'Active').otherwise('Inactive'))\\\n",
    ".withColumn('CodePackageActivitiesDays', f.date_diff(f.col('DatePackageEnd'), f.col('DatePackageCreation')))"
   ]
  },
  {
   "cell_type": "code",
   "execution_count": 20,
   "metadata": {},
   "outputs": [
    {
     "name": "stdout",
     "output_type": "stream",
     "text": [
      "+-----+----------+------+\n",
      "|OPCCC|     OPDDD|prepre|\n",
      "+-----+----------+------+\n",
      "|   50|    פלאפון|    50|\n",
      "|   52|     סלקום|    52|\n",
      "|   53|הוט מובייל|    53|\n",
      "|   54|     אורנג|    54|\n",
      "|   58|גולן טלקום|    58|\n",
      "+-----+----------+------+\n",
      "\n"
     ]
    }
   ],
   "source": [
    "opfileopp_mrr.show(n=5)"
   ]
  },
  {
   "cell_type": "code",
   "execution_count": 21,
   "metadata": {},
   "outputs": [],
   "source": [
    "# DimOperators staging\n",
    "DimOperators_stg = opfileopp_mrr.withColumnRenamed('OPCCC', 'KeyOperator')\\\n",
    "    .withColumn('DescOperator', f.concat_ws('-', f.col('prepre').cast('string'), f.col('OPDDD').cast('string')))\\\n",
    "    .withColumnRenamed('prepre', 'DescKeyPrefix')\\\n",
    "    .select('KeyOperator', 'DescOperator', 'DescKeyPrefix')"
   ]
  },
  {
   "cell_type": "code",
   "execution_count": 22,
   "metadata": {},
   "outputs": [
    {
     "name": "stdout",
     "output_type": "stream",
     "text": [
      "+-----------+------------+-----------------+-------------------+--------------------+-----------+\n",
      "|customer_id| CUST_NUMBER|        cust_name|            address|         insert_date|update_date|\n",
      "+-----------+------------+-----------------+-------------------+--------------------+-----------+\n",
      "|          1|972541185146|     Eugene Huang|         2243 W St.|2014-01-15 16:25:...|       NULL|\n",
      "|          2|972547493463|     Ruben Torres|   5844 Linden Land|2014-01-15 16:25:...|       NULL|\n",
      "|          3|972549738380|      Christy Zhu|   1825 Village Pl.|2014-01-15 16:25:...|       NULL|\n",
      "|          4|972540643054|Elizabeth Johnson|7553 Harness Circle|2014-01-15 16:25:...|       NULL|\n",
      "|          5|972546595053|       Julio Ruiz|7305 Humphrey Drive|2014-01-15 16:25:...|       NULL|\n",
      "+-----------+------------+-----------------+-------------------+--------------------+-----------+\n",
      "only showing top 5 rows\n",
      "\n",
      "+-----------+--------------------+-------+------+--------+----------------+--------------------+-----------+-----------+-------------------+\n",
      "|   PHONE_NO|          createdate|enddate|status|    TYPE|            DESC|         insert_date|update_date|discountpct|numberoffreeminutes|\n",
      "+-----------+--------------------+-------+------+--------+----------------+--------------------+-----------+-----------+-------------------+\n",
      "|12120001230|2011-12-19 16:28:...|   NULL|     1|BUSINESS|BUSINESS package|2014-01-15 16:28:...|       NULL|         46|               NULL|\n",
      "|12120001324|2011-12-19 16:28:...|   NULL|     1|BUSINESS|BUSINESS package|2014-01-15 16:28:...|       NULL|         46|               NULL|\n",
      "|12120003184|2011-12-19 16:28:...|   NULL|     1|BUSINESS|BUSINESS package|2014-01-15 16:28:...|       NULL|         46|               NULL|\n",
      "|12120004558|2011-12-19 16:28:...|   NULL|     1|BUSINESS|BUSINESS package|2014-01-15 16:28:...|       NULL|         46|               NULL|\n",
      "|12120004886|2011-12-19 16:28:...|   NULL|     1|BUSINESS|BUSINESS package|2014-01-15 16:28:...|       NULL|         46|               NULL|\n",
      "+-----------+--------------------+-------+------+--------+----------------+--------------------+-----------+-----------+-------------------+\n",
      "only showing top 5 rows\n",
      "\n",
      "+-----+----------+------+\n",
      "|OPCCC|     OPDDD|prepre|\n",
      "+-----+----------+------+\n",
      "|   50|    פלאפון|    50|\n",
      "|   52|     סלקום|    52|\n",
      "|   53|הוט מובייל|    53|\n",
      "|   54|     אורנג|    54|\n",
      "|   58|גולן טלקום|    58|\n",
      "+-----+----------+------+\n",
      "\n"
     ]
    }
   ],
   "source": [
    "customer_mrr.show(5)\n",
    "\n",
    "customer_lines_mrr.show(5)\n",
    "\n",
    "opfileopp_mrr.show(5)"
   ]
  },
  {
   "cell_type": "markdown",
   "metadata": {},
   "source": [
    "\"extract the operator code from the phone number and  bring the operator name from opfileopp. \n",
    "The assumption is that a phone number (without country and opperator prefix) has 7 digits and that country code may have 1 or 2 or 3 digits. \n",
    "For example,\n",
    "-  for phone_no +972549972307, the opertator will be the operator name for prefix 54.\n",
    "- for phone_no, +12127114685, the operator will be the name for prefix 212\n",
    "if operator name not found then put 'Unknown'\"\n"
   ]
  },
  {
   "cell_type": "code",
   "execution_count": 33,
   "metadata": {},
   "outputs": [
    {
     "name": "stdout",
     "output_type": "stream",
     "text": [
      "+-----------+------------+---------------------------------+----------------------------+-----------------+-------------------+------------+\n",
      "|KeyCustomer|    PHONE_NO|CustomerLineOperatorPrefixForJoin|CustomerCountryPrefixForJoin| DescCustomerName|DescCustomerAddress|OperatorName|\n",
      "+-----------+------------+---------------------------------+----------------------------+-----------------+-------------------+------------+\n",
      "|          1|972541185146|                               54|                         972|     Eugene Huang|         2243 W St.|       אורנג|\n",
      "|          2|972547493463|                               54|                         972|     Ruben Torres|   5844 Linden Land|       אורנג|\n",
      "|          3|972549738380|                               54|                         972|      Christy Zhu|   1825 Village Pl.|       אורנג|\n",
      "|          4|972540643054|                               54|                         972|Elizabeth Johnson|7553 Harness Circle|       אורנג|\n",
      "|          5|972546595053|                               54|                         972|       Julio Ruiz|7305 Humphrey Drive|       אורנג|\n",
      "+-----------+------------+---------------------------------+----------------------------+-----------------+-------------------+------------+\n",
      "only showing top 5 rows\n",
      "\n"
     ]
    }
   ],
   "source": [
    "# DimCustomers staging\n",
    "customer_mrr = spark.read.parquet(r'C:\\Users\\alex\\Desktop\\TheVoice - PySpark\\TheVoice - parquet_files\\customer.parquet')\n",
    "customer_mrr.join(customer_lines_mrr.select('PHONE_NO'), \n",
    "        customer_mrr['CUST_NUMBER'] == customer_lines_mrr['PHONE_NO'], how='inner')\\\n",
    "    .withColumnRenamed('customer_id', 'KeyCustomer')\\\n",
    "    .withColumn( 'CustomerLineOperatorPrefixForJoin',\n",
    "        f.when(f.length(f.col('PHONE_NO').cast('string')) == 12, \n",
    "            f.substr(f.col('PHONE_NO').cast('string'), f.lit(4), f.lit(2)))\\\n",
    "            .otherwise(f.substr(f.col('PHONE_NO').cast('string'), f.lit(2), f.lit(3))))\\\n",
    "    .withColumn('CustomercountryPrefixForJoin',\n",
    "        f.when(f.length(f.col('PHONE_NO').cast('string')) == 12, \n",
    "            f.substr(f.col('PHONE_NO').cast('string'), f.lit(1), f.lit(3)))\\\n",
    "            .otherwise(f.substr(f.col('PHONE_NO').cast('string'), f.lit(1), f.lit(1))))\\\n",
    "    .withColumnRenamed('cust_name', 'DescCustomerName')\\\n",
    "    .withColumnRenamed('address', 'DescCustomerAddress')\\\n",
    "    .join(opfileopp_mrr.select('OPCCC', 'OPDDD'),#\n",
    "        f.col('CustomerLineOperatorPrefixForJoin').cast('int') == f.col('OPCCC').cast('int'), how='left')\\\n",
    "    .withColumn('operatorName',\n",
    "         f.when(f.isnull(f.col('OPDDD')), 'Unknown').otherwise(f.col('OPDDD'))\n",
    "    )\n",
    "    .select('KeyCustomer', 'PHONE_NO', 'CustomerLineOperatorPrefixForJoin', 'CustomerCountryPrefixForJoin', 'DescCustomerName', 'DescCustomerAddress', f.col('OPDDD').alias('DescCustomerLineOperator'))\\\n",
    "    .show(5)#.orderBy(f.col('CustomerLineOperatorPrefixForJoin').asc())"
   ]
  },
  {
   "cell_type": "code",
   "execution_count": 24,
   "metadata": {},
   "outputs": [
    {
     "name": "stdout",
     "output_type": "stream",
     "text": [
      "+-----------+------------+-----------------+-------------------+--------------------+-----------+------------+\n",
      "|customer_id| CUST_NUMBER|        cust_name|            address|         insert_date|update_date|    PHONE_NO|\n",
      "+-----------+------------+-----------------+-------------------+--------------------+-----------+------------+\n",
      "|          1|972541185146|     Eugene Huang|         2243 W St.|2014-01-15 16:25:...|       NULL|972541185146|\n",
      "|          2|972547493463|     Ruben Torres|   5844 Linden Land|2014-01-15 16:25:...|       NULL|972547493463|\n",
      "|          3|972549738380|      Christy Zhu|   1825 Village Pl.|2014-01-15 16:25:...|       NULL|972549738380|\n",
      "|          4|972540643054|Elizabeth Johnson|7553 Harness Circle|2014-01-15 16:25:...|       NULL|972540643054|\n",
      "|          5|972546595053|       Julio Ruiz|7305 Humphrey Drive|2014-01-15 16:25:...|       NULL|972546595053|\n",
      "+-----------+------------+-----------------+-------------------+--------------------+-----------+------------+\n",
      "only showing top 5 rows\n",
      "\n"
     ]
    }
   ],
   "source": [
    "# Assuming df_other is the DataFrame you want to join with\n",
    "\n",
    "\n",
    "customer_mrr = spark.read.parquet(r'C:\\Users\\alex\\Desktop\\TheVoice - PySpark\\TheVoice - parquet_files\\customer.parquet')\n",
    "customer_mrr.join(customer_lines_mrr.select('PHONE_NO'), customer_mrr['CUST_NUMBER'] == customer_lines_mrr['PHONE_NO'], how='inner').show(5)\n"
   ]
  },
  {
   "cell_type": "code",
   "execution_count": 26,
   "metadata": {},
   "outputs": [
    {
     "name": "stdout",
     "output_type": "stream",
     "text": [
      "+-----+----------+------+\n",
      "|OPCCC|     OPDDD|prepre|\n",
      "+-----+----------+------+\n",
      "|   50|    פלאפון|    50|\n",
      "|   52|     סלקום|    52|\n",
      "|   53|הוט מובייל|    53|\n",
      "|   54|     אורנג|    54|\n",
      "|   58|גולן טלקום|    58|\n",
      "+-----+----------+------+\n",
      "\n"
     ]
    }
   ],
   "source": [
    "opfileopp_mrr.show()"
   ]
  },
  {
   "cell_type": "code",
   "execution_count": null,
   "metadata": {},
   "outputs": [],
   "source": []
  }
 ],
 "metadata": {
  "kernelspec": {
   "display_name": "spark_env_3_11",
   "language": "python",
   "name": "python3"
  },
  "language_info": {
   "codemirror_mode": {
    "name": "ipython",
    "version": 3
   },
   "file_extension": ".py",
   "mimetype": "text/x-python",
   "name": "python",
   "nbconvert_exporter": "python",
   "pygments_lexer": "ipython3",
   "version": "3.11.6"
  }
 },
 "nbformat": 4,
 "nbformat_minor": 2
}
