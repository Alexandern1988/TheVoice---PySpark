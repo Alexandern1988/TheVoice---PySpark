{
 "cells": [
  {
   "cell_type": "code",
   "execution_count": 3,
   "metadata": {},
   "outputs": [
    {
     "ename": "ModuleNotFoundError",
     "evalue": "No module named 'delta_tables'",
     "output_type": "error",
     "traceback": [
      "\u001b[1;31m---------------------------------------------------------------------------\u001b[0m",
      "\u001b[1;31mModuleNotFoundError\u001b[0m                       Traceback (most recent call last)",
      "Cell \u001b[1;32mIn[3], line 15\u001b[0m\n\u001b[0;32m     13\u001b[0m \u001b[38;5;28;01mimport\u001b[39;00m \u001b[38;5;21;01mpyspark\u001b[39;00m\u001b[38;5;21;01m.\u001b[39;00m\u001b[38;5;21;01msql\u001b[39;00m\u001b[38;5;21;01m.\u001b[39;00m\u001b[38;5;21;01mtypes\u001b[39;00m \u001b[38;5;28;01mas\u001b[39;00m \u001b[38;5;21;01mt\u001b[39;00m\n\u001b[0;32m     14\u001b[0m \u001b[38;5;28;01mimport\u001b[39;00m \u001b[38;5;21;01mpyspark\u001b[39;00m\u001b[38;5;21;01m.\u001b[39;00m\u001b[38;5;21;01mpandas\u001b[39;00m \u001b[38;5;28;01mas\u001b[39;00m \u001b[38;5;21;01mps\u001b[39;00m\n\u001b[1;32m---> 15\u001b[0m \u001b[38;5;28;01mimport\u001b[39;00m \u001b[38;5;21;01mdelta_tables\u001b[39;00m\n",
      "\u001b[1;31mModuleNotFoundError\u001b[0m: No module named 'delta_tables'"
     ]
    }
   ],
   "source": [
    "import pandas as pd \n",
    "import numpy as np\n",
    "import sqlalchemy\n",
    "import pyodbc\n",
    "\n",
    "import findspark\n",
    "findspark.init()\n",
    "findspark.find()\n",
    "\n",
    "from pyspark.sql import SparkSession\n",
    "import pyspark.sql.functions as f\n",
    "import pyspark.sql.window as w\n",
    "import pyspark.sql.types as t\n",
    "import pyspark.pandas as ps\n",
    "import delta_tables"
   ]
  },
  {
   "cell_type": "code",
   "execution_count": null,
   "metadata": {},
   "outputs": [],
   "source": [
    "spark = SparkSession.builder.appName('TheVoice-ETL').getOrCreate()"
   ]
  },
  {
   "cell_type": "code",
   "execution_count": null,
   "metadata": {},
   "outputs": [],
   "source": [
    "# Load into dataframes\n",
    "call_type_mrr =         spark.read.parquet(r'C:\\Users\\alex\\Desktop\\TheVoice - PySpark\\TheVoice - parquet_files\\call_type.parquet')\n",
    "countries_mrr =         spark.read.parquet(r'C:\\Users\\alex\\Desktop\\TheVoice - PySpark\\TheVoice - parquet_files\\countries.parquet')\n",
    "customer_mrr =          spark.read.parquet(r'C:\\Users\\alex\\Desktop\\TheVoice - PySpark\\TheVoice - parquet_files\\customer.parquet')\n",
    "customer_invoice_mrr =  spark.read.parquet(r'C:\\Users\\alex\\Desktop\\TheVoice - PySpark\\TheVoice - parquet_files\\customer_invoice.parquet')\n",
    "customer_lines_mrr =    spark.read.parquet(r'C:\\Users\\alex\\Desktop\\TheVoice - PySpark\\TheVoice - parquet_files\\customer_lines.parquet')\n",
    "opfileopp_mrr =         spark.read.parquet(r'C:\\Users\\alex\\Desktop\\TheVoice - PySpark\\TheVoice - parquet_files\\pfileopp.parquet')\n",
    "package_catalog_mrr =   spark.read.parquet(r'C:\\Users\\alex\\Desktop\\TheVoice - PySpark\\TheVoice - parquet_files\\package_catalog.parquet')\n",
    "usage_main_mrr =        spark.read.parquet(r'C:\\Users\\alex\\Desktop\\TheVoice - PySpark\\TheVoice - parquet_files\\usage_main.parquet')\n",
    "xxCountryType_mrr =     spark.read.parquet(r'C:\\Users\\alex\\Desktop\\TheVoice - PySpark\\TheVoice - parquet_files\\xxCountryType.parquet')"
   ]
  },
  {
   "cell_type": "code",
   "execution_count": null,
   "metadata": {},
   "outputs": [],
   "source": []
  },
  {
   "cell_type": "code",
   "execution_count": null,
   "metadata": {},
   "outputs": [],
   "source": [
    "# DimCallTypes staging\n",
    "\n",
    "# variable set\n",
    "price_per_minute = 0.5\n",
    "\n",
    "# window for the key column\n",
    "windowSpec_callType = w.Window.orderBy('call_type_code')\n",
    "\n",
    "# final df \n",
    "DimCallTypes_stg = call_type_mrr.withColumn('KeyCallType', f.row_number().over(windowSpec_callType) + 1000)\\\n",
    "    .withColumnRenamed('call_type_code', 'DescCallTypeCode')\\\n",
    "    .withColumnRenamed('call_type_desc', 'DescCallType')\\\n",
    "    .withColumn('DescFullCallType', \n",
    "        f.concat_ws('-', f.col('DescCallTypeCode'), f.col('DescCallType')))\\\n",
    "    .withColumn('DescCallTypePriceCategory', f.when(f.col('priceperminuter') > price_per_minute, 'Discounted Price').otherwise('Normal Price'))\\\n",
    "    .withColumnRenamed('call_type', 'DescCallTypeCategory')\\\n",
    "    .select(\n",
    "        'KeyCallType', \n",
    "        'DescCallTypeCode', \n",
    "        'DescCallType', \n",
    "        'DescFullCallType', \n",
    "        'DescCallTypePriceCategory', \n",
    "        'DescCallTypeCategory'\n",
    "    )#.show()\n"
   ]
  },
  {
   "cell_type": "code",
   "execution_count": null,
   "metadata": {},
   "outputs": [],
   "source": [
    "# DimCountries staging\n",
    "\n",
    "# select proper column and rename the country code column\n",
    "xxCountryType_mrr = xxCountryType_mrr.select('COUNTRY_CODE', 'COUNTRY_PRE').withColumnRenamed('COUNTRY_CODE','COUNTRY_CODE2')\n",
    "\n",
    "# final df\n",
    "DimCountries_stg = countries_mrr.select('COUNTRY_CODE', 'REGION', 'AREA').join(\n",
    "    xxCountryType_mrr,\n",
    "    countries_mrr['COUNTRY_CODE'] == xxCountryType_mrr['COUNTRY_CODE2'],\n",
    "    how='inner')\\\n",
    "    .withColumnRenamed('COUNTRY_PRE', 'KeyCountry')\\\n",
    "    .withColumnRenamed('COUNTRY_CODE', 'DescCountry')\\\n",
    "    .withColumnRenamed('REGION', 'DescRegion')\\\n",
    "    .withColumnRenamed('AREA', 'DescArea')\\\n",
    "    .select('KeyCountry', 'DescCountry', 'DescRegion', 'DescArea')#.show(5)"
   ]
  },
  {
   "cell_type": "code",
   "execution_count": null,
   "metadata": {},
   "outputs": [],
   "source": [
    "# DimPackageCatalog staging\n",
    "DimPackageCatalog_stg = package_catalog_mrr.withColumnRenamed('PACKAGE_NUM','KeyPackage')\\\n",
    ".withColumnRenamed('pack_desc', 'DescPackage')\\\n",
    ".withColumnRenamed('createdate', 'DatePackageCreation')\\\n",
    ".withColumnRenamed('enddate', 'DatePackageEnd')\\\n",
    ".withColumn('DescPackageStatus',\n",
    "    f.when(f.col('status') == 1, 'Active').otherwise('Inactive'))\\\n",
    ".withColumn('CodePackageActivitiesDays', f.date_diff(f.col('DatePackageEnd'), f.col('DatePackageCreation')))"
   ]
  },
  {
   "cell_type": "code",
   "execution_count": null,
   "metadata": {},
   "outputs": [
    {
     "name": "stdout",
     "output_type": "stream",
     "text": [
      "+----------+--------------------+--------------+------+---------+--------------------+--------------------+--------------------+-----------------+-------------------------+\n",
      "|KeyPackage| DatePackageCreation|DatePackageEnd|status|pack_type|         DescPackage|         insert_date|         update_date|DescPackageStatus|CodePackageActivitiesDays|\n",
      "+----------+--------------------+--------------+------+---------+--------------------+--------------------+--------------------+-----------------+-------------------------+\n",
      "|         1|2014-01-15 16:28:...|          NULL|     1|   FAMILY|pay much more get...|2014-01-15 16:28:...|2014-01-15 16:28:...|           Active|                     NULL|\n",
      "|         2|2014-01-15 16:28:...|          NULL|     1|  FRIENDS|friends pay more ...|2014-01-15 16:28:...|2014-01-15 16:28:...|           Active|                     NULL|\n",
      "|         3|2014-01-15 16:28:...|          NULL|     1| BUSINESS|business man pay ...|2014-01-15 16:28:...|2014-01-15 16:28:...|           Active|                     NULL|\n",
      "|         4|2012-01-22 00:00:...|    2015-01-23|     0| SOLDIERS|   Soldiers pay less|2012-01-22 00:00:...|2015-01-23 00:00:...|         Inactive|                     1097|\n",
      "+----------+--------------------+--------------+------+---------+--------------------+--------------------+--------------------+-----------------+-------------------------+\n",
      "\n"
     ]
    }
   ],
   "source": [
    "DimPackageCatalog_stg.show(5)"
   ]
  },
  {
   "cell_type": "code",
   "execution_count": null,
   "metadata": {},
   "outputs": [],
   "source": [
    "# DimOperators staging\n",
    "DimOperators_stg = opfileopp_mrr.withColumnRenamed('OPCCC', 'KeyOperator')\\\n",
    "    .withColumn('DescOperator', f.concat_ws('-', f.col('prepre').cast('string'), f.col('OPDDD').cast('string')))\\\n",
    "    .withColumnRenamed('prepre', 'DescKeyPrefix')\\\n",
    "    .select('KeyOperator', 'DescOperator', 'DescKeyPrefix')"
   ]
  },
  {
   "cell_type": "code",
   "execution_count": null,
   "metadata": {},
   "outputs": [],
   "source": [
    "# DimCustomers staging\n",
    "customer_mrr = spark.read.parquet(r'C:\\Users\\alex\\Desktop\\TheVoice - PySpark\\TheVoice - parquet_files\\customer.parquet')\n",
    "DimCustomers_stg = customer_mrr.join(customer_lines_mrr.select('PHONE_NO', 'DESC'), \n",
    "        customer_mrr['CUST_NUMBER'] == customer_lines_mrr['PHONE_NO'], how='inner')\\\n",
    "    .withColumnRenamed('customer_id', 'KeyCustomer')\\\n",
    "    .withColumnRenamed('DESC', 'DescCusomterPackage')\\\n",
    "    .withColumn( 'CustomerLineOperatorPrefixForJoin',\n",
    "        f.when(f.length(f.col('PHONE_NO').cast('string')) == 12, \n",
    "            f.substr(f.col('PHONE_NO').cast('string'), f.lit(4), f.lit(2)))\\\n",
    "            .otherwise(f.substr(f.col('PHONE_NO').cast('string'), f.lit(2), f.lit(3)))\n",
    "    )\\\n",
    "    .withColumn('CustomercountryPrefixForJoin',\n",
    "        f.when(f.length(f.col('PHONE_NO').cast('string')) == 12, \n",
    "            f.substr(f.col('PHONE_NO').cast('string'), f.lit(1), f.lit(3)))\\\n",
    "            .otherwise(f.substr(f.col('PHONE_NO').cast('string'), f.lit(1), f.lit(1)))\n",
    "    )\\\n",
    "    .withColumnRenamed('cust_name', 'DescCustomerName')\\\n",
    "    .withColumnRenamed('address', 'DescCustomerAddress')\\\n",
    "    .join(opfileopp_mrr.select('OPCCC', 'OPDDD'),#\n",
    "        f.col('CustomerLineOperatorPrefixForJoin').cast('int') == f.col('OPCCC').cast('int'), how='left')\\\n",
    "    .withColumn('operatorName',\n",
    "         f.when(f.isnull(f.col('OPDDD')), 'Unknown').otherwise(f.col('OPDDD')))\\\n",
    "    .withColumnRenamed('operatorName', 'DescCustomerLineOperator')\\\n",
    "    .join(xxCountryType_mrr,\n",
    "        f.col('CustomerCountryPrefixForJoin') == f.col('COUNTRY_PRE'), how='left'\n",
    "    )\\\n",
    "    .withColumn('DescCustomerLineCountry',\n",
    "        f.when(f.isnull('COUNTRY_CODE2'), 'Unknown').otherwise(f.col('COUNTRY_CODE2'))\n",
    "    )\\\n",
    "    .select(\n",
    "        'KeyCustomer', \n",
    "        'DescCustomerLineOperator', \n",
    "        'DescCustomerLineCountry', \n",
    "        'DescCustomerName', \n",
    "        'DescCustomerAddress', \n",
    "        'DescCusomterPackage'\n",
    "    )\n",
    "    #.orderBy(f.col('CustomerLineOperatorPrefixForJoin').asc())"
   ]
  },
  {
   "cell_type": "code",
   "execution_count": null,
   "metadata": {},
   "outputs": [],
   "source": [
    "# DimCallOriginType staging\n",
    "DimCallOriginType_stg = usage_main_mrr.withColumn('DescCallOriginType',\n",
    "    f.when(f.col('CELL_ORIGIN') == 1, 'Cellular Call')\\\n",
    "    .when(f.col('CELL_ORIGIN') == 0 , 'Cellular Call').otherwise('Unknown')\n",
    ").withColumnRenamed('CELL_ORIGIN', 'KeyCallOriginType')\\\n",
    ".select('KeyCallOriginType', 'DescCallOriginType')"
   ]
  },
  {
   "cell_type": "code",
   "execution_count": null,
   "metadata": {},
   "outputs": [
    {
     "name": "stderr",
     "output_type": "stream",
     "text": [
      "c:\\ProgramData\\anaconda3\\envs\\spark_env_3_11\\Lib\\site-packages\\pyspark\\sql\\pandas\\conversion.py:485: FutureWarning: is_datetime64tz_dtype is deprecated and will be removed in a future version. Check `isinstance(dtype, pd.DatetimeTZDtype)` instead.\n",
      "  if should_localize and is_datetime64tz_dtype(s.dtype) and s.dt.tz is not None:\n"
     ]
    }
   ],
   "source": [
    "# DimDate staging\n",
    "start_date = usage_main_mrr.select(f.min(f.col('CALL_DATETIME'))).first()[0]\n",
    "end_date = usage_main_mrr.select(f.max(f.col('CALL_DATETIME'))).first()[0]\n",
    "\n",
    "DimDate_pandas = pd.DataFrame({'FullDate': pd.date_range(start= start_date, end= end_date)})\n",
    "DimDate_stg = spark.createDataFrame(DimDate_pandas)\n",
    "\n",
    "DimDate_stg = DimDate_stg.withColumn('month_string',\n",
    "    f.when(f.month(f.col('FullDate')) < 10, f.concat(f.lit('0'), f.month(f.col('FullDate'))))\\\n",
    "    .otherwise(f.month(f.col('FullDate'))))\\\n",
    "    .withColumn('day_string',\n",
    "        f.when(f.day(f.col('FullDate')) < 10, f.concat(f.lit('0'), f.day(f.col('FullDate'))))\\\n",
    "        .otherwise(f.day(f.col('FullDate'))))\\\n",
    "    .withColumn('KeyDate', f.concat(f.year(f.col('FullDate')), f.col('month_string'), f.col('day_string')))\\\n",
    "    .withColumn('KeyYear',f.year(f.col('FullDate')))\\\n",
    "    .withColumn('KeyMonth', f.concat(f.year('FullDate'), f.col('month_string')))\\\n",
    "    .withColumn('CodeMonth', f.month(f.col('FullDate')))\\\n",
    "    .withColumn('DescMonth', f.date_format(f.col('FullDate'), 'MMMM'))\\\n",
    "    .withColumn('CodeDayInWeek', f.day(f.col('FullDate')))\\\n",
    "    .withColumn('DescDayInWeek', f.date_format(f.col('FullDate'), 'EEEE'))\\\n",
    "    .select(\n",
    "        'KeyDate', \n",
    "        'FullDate', \n",
    "        'KeyYear', \n",
    "        'KeyMonth', \n",
    "        'CodeMonth', \n",
    "        'DescMonth', \n",
    "        'CodeDayInWeek', \n",
    "        'DescDayInWeek'\n",
    "    )#.show(5)"
   ]
  },
  {
   "cell_type": "code",
   "execution_count": null,
   "metadata": {},
   "outputs": [],
   "source": [
    "# FactUsage staging\n",
    "FactUsage_stg = usage_main_mrr.join(customer_mrr.select(f.col('customer_id')),\n",
    "    f.col('CALL_NO') == f.col('customer_id'), how='inner')\\\n",
    "    .withColumnRenamed('CALL_NO', 'CallId')\\\n",
    "    .withColumnRenamed('CUST_ID', 'KeyCustomer')\\\n",
    "    .join(DimCallTypes_stg.select('KeyCallType', 'DescCallTypeCode'),\n",
    "        f.col('CALL_TYPE') == f.col('DescCallTypeCode'), how='inner')\\\n",
    "    .withColumn('CALLING_NO_operator',\n",
    "        f.when(f.length(f.col('CALLING_NO')) == 12, \n",
    "            f.substr(f.col('CALLING_NO'), f.lit(4), f.lit(2)))\\\n",
    "            .otherwise(f.substr(f.col('CALLING_NO'), f.lit(2), f.lit(3))))\\\n",
    "    .join(opfileopp_mrr.select('OPCCC', 'OPDDD'),\n",
    "        f.col('CALLING_NO_operator') == f.col('OPCCC'), how='left')\\\n",
    "    .withColumn('KeyOriginOperator',\n",
    "        f.when(f.isnull(f.col('OPDDD')), f.lit(-1)).otherwise(f.col('OPDDD')))\\\n",
    "    .withColumn('CALLING_NO_country',\n",
    "        f.when(f.length(f.col('CALLING_NO')) == 12, \n",
    "            f.substr(f.col('CALLING_NO'), f.lit(1), f.lit(3)))\\\n",
    "            .otherwise(f.substr(f.col('CALLING_NO'), f.lit(1), f.lit(1))))\\\n",
    "    .join(xxCountryType_mrr,\n",
    "        f.col('CALLING_NO_country') == f.col('COUNTRY_PRE'), how='left')\\\n",
    "    .withColumn('KeyOriginCountry',\n",
    "        f.when(f.isnull(f.col('COUNTRY_CODE2')), f.lit(-1)).otherwise(f.col('COUNTRY_CODE2')))\\\n",
    "    .withColumn('DES_NO_operator',\n",
    "        f.when(f.length(f.col('DES_NO')) == 12, \n",
    "            f.substr(f.col('DES_NO'), f.lit(4), f.lit(2)))\\\n",
    "            .otherwise(f.substr(f.col('DES_NO'), f.lit(2), f.lit(3))))\\\n",
    "    .join(opfileopp_mrr.select(f.col('OPCCC').alias('OPCCC_DES_NO'), f.col('OPDDD').alias('OPDDD_DES_NO')),\n",
    "        f.col('DES_NO_operator') == f.col('OPCCC_DES_NO'), how='left')\\\n",
    "    .withColumn('KeyDestinationOperator',\n",
    "        f.when(f.isnull(f.col('OPDDD_DES_NO')), f.lit(-1)).otherwise(f.col('OPDDD_DES_NO')))\\\n",
    "    .join(customer_lines_mrr,\n",
    "        f.col('CALLING_NO') == f.col('PHONE_NO'), how='inner')\\\n",
    "    .join(DimPackageCatalog_stg,\n",
    "        f.col('TYPE') == f.col('pack_type'), how='inner')\\\n",
    "    .withColumnRenamed('CELL_ORIGIN', 'KeyCallOriginType')\\\n",
    "    .withColumn('month_string',\n",
    "        f.when(f.month(f.col('CALL_DATETIME')) < 10, f.concat(f.lit('0'), f.month(f.col('CALL_DATETIME'))))\\\n",
    "        .otherwise(f.month(f.col('CALL_DATETIME'))))\\\n",
    "    .withColumn('day_string',\n",
    "        f.when(f.day(f.col('CALL_DATETIME')) < 10, f.concat(f.lit('0'), f.day(f.col('CALL_DATETIME'))))\\\n",
    "        .otherwise(f.day(f.col('CALL_DATETIME'))))\\\n",
    "    .withColumn('KeyCallDate', f.concat(f.year(f.col('CALL_DATETIME')), f.col('month_string'), f.col('day_string')))\\\n",
    "    .withColumnRenamed('DURATION', 'Duration')\\\n",
    "    .withColumn('BillableDuration', f.col('Duration') - f.col('numberoffreeminutes'))\\\n",
    "    .withColumnRenamed('RATED_AMNT', 'Amount')\\\n",
    "    .withColumn('BillableAmount',\n",
    "        f.when( (f.col('discountpct') == 0) | (f.isnull(f.col('discountpct'))), f.col('Amount'))\\\n",
    "        .otherwise(f.col('Amount')*f.col('discountpct')/(100)))\\\n",
    "    .select(\n",
    "        'CallId', \n",
    "        'KeyCustomer', \n",
    "        'KeyCallType', \n",
    "        'KeyOriginOperator', \n",
    "        'KeyOriginCountry', \n",
    "        'KeyDestinationOperator', \n",
    "        'KeyPackage',\n",
    "        'KeyCallDate',\n",
    "        'Duration',\n",
    "        'BillableDuration',\n",
    "        'Amount',\n",
    "        'BillableAmount'\n",
    "        )#.show(5)\n"
   ]
  },
  {
   "cell_type": "code",
   "execution_count": null,
   "metadata": {},
   "outputs": [
    {
     "data": {
      "text/plain": [
       "'\\nDimCallTypes\\nDimCountries\\nDimPackageCatalog\\nDimOperators\\nDimCustomers\\nDimCallOriginType\\nDimDate\\nDimTime\\nFactUsage\\n'"
      ]
     },
     "execution_count": 24,
     "metadata": {},
     "output_type": "execute_result"
    }
   ],
   "source": [
    "\"\"\"\n",
    "DimCallTypes\n",
    "DimCountries\n",
    "DimPackageCatalog\n",
    "DimOperators\n",
    "DimCustomers\n",
    "DimCallOriginType\n",
    "DimDate\n",
    "DimTime\n",
    "FactUsage\n",
    "\"\"\""
   ]
  },
  {
   "cell_type": "code",
   "execution_count": null,
   "metadata": {},
   "outputs": [],
   "source": [
    "DimCallTypes = DimCallTypes_stg.filter(f.lit(2) == f.lit(1))\n",
    "DimCountries = DimCountries_stg.filter(f.lit(2) == f.lit(1))\n",
    "DimPackageCatalog = DimPackageCatalog_stg.filter(f.lit(2) == f.lit(1))\n",
    "DimOperators = DimOperators_stg.filter(f.lit(2) == f.lit(1))\n",
    "DimCustomers = DimCustomers_stg.filter(f.lit(2) == f.lit(1))\n",
    "DimCallOriginType = DimCallOriginType_stg.filter(f.lit(2) == f.lit(1))\n",
    "DimDate = DimDate_stg.filter(f.lit(2) == f.lit(1))\n",
    "FactUsage = FactUsage_stg.filter(f.lit(2) == f.lit(1))"
   ]
  },
  {
   "cell_type": "code",
   "execution_count": null,
   "metadata": {},
   "outputs": [
    {
     "name": "stdout",
     "output_type": "stream",
     "text": [
      "root\n",
      " |-- KeyCallType: integer (nullable = false)\n",
      " |-- DescCallTypeCode: string (nullable = true)\n",
      " |-- DescCallType: string (nullable = true)\n",
      " |-- DescFullCallType: string (nullable = false)\n",
      " |-- DescCallTypePriceCategory: string (nullable = false)\n",
      " |-- DescCallTypeCategory: string (nullable = true)\n",
      "\n"
     ]
    }
   ],
   "source": [
    "# DimCallType incremental load\n",
    "DimCallTypes.printSchema()\n",
    "\n",
    "DimCallTypes.alias('trg').merge('')"
   ]
  }
 ],
 "metadata": {
  "kernelspec": {
   "display_name": "spark_env_3_11",
   "language": "python",
   "name": "python3"
  },
  "language_info": {
   "codemirror_mode": {
    "name": "ipython",
    "version": 3
   },
   "file_extension": ".py",
   "mimetype": "text/x-python",
   "name": "python",
   "nbconvert_exporter": "python",
   "pygments_lexer": "ipython3",
   "version": "3.11.6"
  }
 },
 "nbformat": 4,
 "nbformat_minor": 2
}
