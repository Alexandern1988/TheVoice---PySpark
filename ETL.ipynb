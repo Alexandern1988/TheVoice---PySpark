{
 "cells": [
  {
   "cell_type": "code",
   "execution_count": 1,
   "metadata": {},
   "outputs": [
    {
     "name": "stderr",
     "output_type": "stream",
     "text": [
      "c:\\ProgramData\\anaconda3\\envs\\spark_env_3_11\\Lib\\site-packages\\pyspark\\pandas\\__init__.py:50: UserWarning: 'PYARROW_IGNORE_TIMEZONE' environment variable was not set. It is required to set this environment variable to '1' in both driver and executor sides if you use pyarrow>=2.0.0. pandas-on-Spark will set it for you but it does not work if there is a Spark context already launched.\n",
      "  warnings.warn(\n"
     ]
    }
   ],
   "source": [
    "import pandas as pd \n",
    "import numpy as np\n",
    "import sqlalchemy\n",
    "import pyodbc\n",
    "\n",
    "import findspark\n",
    "findspark.init()\n",
    "findspark.find()\n",
    "\n",
    "from pyspark.sql import SparkSession\n",
    "import pyspark.sql.functions as f\n",
    "import pyspark.sql.window as w\n",
    "import pyspark.sql.types as t\n",
    "import pyspark.pandas as ps"
   ]
  },
  {
   "cell_type": "code",
   "execution_count": 2,
   "metadata": {},
   "outputs": [],
   "source": [
    "spark = SparkSession.builder.appName('TheVoice-ETL').getOrCreate()"
   ]
  },
  {
   "cell_type": "markdown",
   "metadata": {},
   "source": [
    "# Part 1: MRR - Load all the data from the data files into df's"
   ]
  },
  {
   "cell_type": "code",
   "execution_count": 5,
   "metadata": {},
   "outputs": [],
   "source": [
    "# Load into dataframes \n",
    "call_type_mrr =         spark.read.parquet(r'C:\\Users\\alex\\Desktop\\_desktop\\TheVoice - PySpark\\TheVoice - parquet_files\\call_type.parquet')\n",
    "countries_mrr =         spark.read.parquet(r'C:\\Users\\alex\\Desktop\\_desktop\\TheVoice - PySpark\\TheVoice - parquet_files\\countries.parquet')\n",
    "customer_mrr =          spark.read.parquet(r'C:\\Users\\alex\\Desktop\\_desktop\\TheVoice - PySpark\\TheVoice - parquet_files\\customer.parquet')\n",
    "customer_invoice_mrr =  spark.read.parquet(r'C:\\Users\\alex\\Desktop\\_desktop\\TheVoice - PySpark\\TheVoice - parquet_files\\customer_invoice.parquet')\n",
    "customer_lines_mrr =    spark.read.parquet(r'C:\\Users\\alex\\Desktop\\_desktop\\TheVoice - PySpark\\TheVoice - parquet_files\\customer_lines.parquet')\n",
    "opfileopp_mrr =         spark.read.parquet(r'C:\\Users\\alex\\Desktop\\_desktop\\TheVoice - PySpark\\TheVoice - parquet_files\\pfileopp.parquet')\n",
    "package_catalog_mrr =   spark.read.parquet(r'C:\\Users\\alex\\Desktop\\_desktop\\TheVoice - PySpark\\TheVoice - parquet_files\\package_catalog.parquet')\n",
    "usage_main_mrr =        spark.read.parquet(r'C:\\Users\\alex\\Desktop\\_desktop\\TheVoice - PySpark\\TheVoice - parquet_files\\usage_main.parquet')\n",
    "xxCountryType_mrr =     spark.read.parquet(r'C:\\Users\\alex\\Desktop\\_desktop\\TheVoice - PySpark\\TheVoice - parquet_files\\xxCountryType.parquet')"
   ]
  },
  {
   "cell_type": "markdown",
   "metadata": {},
   "source": [
    "# Part 2: Staging - Perform the necessary transformations according to the S2T"
   ]
  },
  {
   "cell_type": "code",
   "execution_count": 6,
   "metadata": {},
   "outputs": [
    {
     "name": "stdout",
     "output_type": "stream",
     "text": [
      "+-----------+----------------+------------------+--------------------+-------------------------+--------------------+\n",
      "|KeyCallType|DescCallTypeCode|      DescCallType|    DescFullCallType|DescCallTypePriceCategory|DescCallTypeCategory|\n",
      "+-----------+----------------+------------------+--------------------+-------------------------+--------------------+\n",
      "|       1001|              3W|    Three-way call|   3W-Three-way call|         Discounted Price|               Voice|\n",
      "|       1002|              AC|Audio Conferencing|AC-Audio Conferen...|             Normal Price|               Voice|\n",
      "|       1003|            CALL|     Cellular Call|  CALL-Cellular Call|         Discounted Price|               Voice|\n",
      "|       1004|              CF|   Call Forwarding|  CF-Call Forwarding|         Discounted Price|               Voice|\n",
      "|       1005|              CW|      Call Waiting|     CW-Call Waiting|         Discounted Price|               Voice|\n",
      "+-----------+----------------+------------------+--------------------+-------------------------+--------------------+\n",
      "only showing top 5 rows\n",
      "\n"
     ]
    }
   ],
   "source": [
    "# DimCallTypes staging\n",
    "\n",
    "# variable set\n",
    "price_per_minute = 0.5\n",
    "\n",
    "# window for the key column\n",
    "windowSpec_callType = w.Window.orderBy('call_type_code')\n",
    "\n",
    "# final df \n",
    "DimCallTypes_stg = call_type_mrr.withColumn('KeyCallType', f.row_number().over(windowSpec_callType) + 1000)\\\n",
    "    .withColumnRenamed('call_type_code', 'DescCallTypeCode')\\\n",
    "    .withColumnRenamed('call_type_desc', 'DescCallType')\\\n",
    "    .withColumn('DescFullCallType', f.concat_ws('-', f.col('DescCallTypeCode'), f.col('DescCallType')))\\\n",
    "    .withColumn('DescCallTypePriceCategory', f.when(f.col('priceperminuter') > price_per_minute, 'Discounted Price').otherwise('Normal Price'))\\\n",
    "    .withColumnRenamed('call_type', 'DescCallTypeCategory')\\\n",
    "    .select(\n",
    "        'KeyCallType', \n",
    "        'DescCallTypeCode', \n",
    "        'DescCallType', \n",
    "        'DescFullCallType', \n",
    "        'DescCallTypePriceCategory', \n",
    "        'DescCallTypeCategory'\n",
    "    )#.show()\n",
    "DimCallTypes_stg.show(5)"
   ]
  },
  {
   "cell_type": "code",
   "execution_count": 7,
   "metadata": {},
   "outputs": [
    {
     "name": "stdout",
     "output_type": "stream",
     "text": [
      "+----------+-----------+----------+-----------------+\n",
      "|KeyCountry|DescCountry|DescRegion|         DescArea|\n",
      "+----------+-----------+----------+-----------------+\n",
      "|        93|Afghanistan|      Asia|       South Asia|\n",
      "|       355|    Albania|    Europe|South East Europe|\n",
      "|       213|    Algeria|    Africa|  Northern Africa|\n",
      "|       376|    Andorra|    Europe|South West Europe|\n",
      "|       244|     Angola|    Africa|  Southern Africa|\n",
      "+----------+-----------+----------+-----------------+\n",
      "only showing top 5 rows\n",
      "\n"
     ]
    }
   ],
   "source": [
    "# DimCountries staging\n",
    "\n",
    "# select proper column and rename the country code column\n",
    "xxCountryType_mrr = xxCountryType_mrr.select('COUNTRY_CODE', 'COUNTRY_PRE').withColumnRenamed('COUNTRY_CODE','COUNTRY_CODE2')\n",
    "\n",
    "# final df\n",
    "DimCountries_stg = countries_mrr.select('COUNTRY_CODE', 'REGION', 'AREA').join(\n",
    "    xxCountryType_mrr,\n",
    "    countries_mrr['COUNTRY_CODE'] == xxCountryType_mrr['COUNTRY_CODE2'],\n",
    "    how='inner')\\\n",
    "    .withColumnRenamed('COUNTRY_PRE', 'KeyCountry')\\\n",
    "    .withColumnRenamed('COUNTRY_CODE', 'DescCountry')\\\n",
    "    .withColumnRenamed('REGION', 'DescRegion')\\\n",
    "    .withColumnRenamed('AREA', 'DescArea')\\\n",
    "    .select('KeyCountry', 'DescCountry', 'DescRegion', 'DescArea')#.show(5)\n",
    "\n",
    "DimCountries_stg.show(5)"
   ]
  },
  {
   "cell_type": "code",
   "execution_count": 8,
   "metadata": {},
   "outputs": [
    {
     "name": "stdout",
     "output_type": "stream",
     "text": [
      "+----------+--------------------+--------------+------+---------+--------------------+--------------------+--------------------+-----------------+-------------------------+\n",
      "|KeyPackage| DatePackageCreation|DatePackageEnd|status|pack_type|         DescPackage|         insert_date|         update_date|DescPackageStatus|CodePackageActivitiesDays|\n",
      "+----------+--------------------+--------------+------+---------+--------------------+--------------------+--------------------+-----------------+-------------------------+\n",
      "|         1|2014-01-15 16:28:...|          NULL|     1|   FAMILY|pay much more get...|2014-01-15 16:28:...|2014-01-15 16:28:...|           Active|                     NULL|\n",
      "|         2|2014-01-15 16:28:...|          NULL|     1|  FRIENDS|friends pay more ...|2014-01-15 16:28:...|2014-01-15 16:28:...|           Active|                     NULL|\n",
      "|         3|2014-01-15 16:28:...|          NULL|     1| BUSINESS|business man pay ...|2014-01-15 16:28:...|2014-01-15 16:28:...|           Active|                     NULL|\n",
      "|         4|2012-01-22 00:00:...|    2015-01-23|     0| SOLDIERS|   Soldiers pay less|2012-01-22 00:00:...|2015-01-23 00:00:...|         Inactive|                     1097|\n",
      "+----------+--------------------+--------------+------+---------+--------------------+--------------------+--------------------+-----------------+-------------------------+\n",
      "\n"
     ]
    }
   ],
   "source": [
    "# DimPackageCatalog staging\n",
    "DimPackageCatalog_stg = package_catalog_mrr.withColumnRenamed('PACKAGE_NUM','KeyPackage')\\\n",
    "    .withColumnRenamed('pack_desc', 'DescPackage')\\\n",
    "    .withColumnRenamed('createdate', 'DatePackageCreation')\\\n",
    "    .withColumnRenamed('enddate', 'DatePackageEnd')\\\n",
    "    .withColumn('DescPackageStatus', f.when(f.col('status') == 1, 'Active').otherwise('Inactive'))\\\n",
    "    .withColumn('CodePackageActivitiesDays', f.date_diff(f.col('DatePackageEnd'), f.col('DatePackageCreation')))\n",
    "\n",
    "DimPackageCatalog_stg.show(5)"
   ]
  },
  {
   "cell_type": "code",
   "execution_count": 9,
   "metadata": {},
   "outputs": [
    {
     "name": "stdout",
     "output_type": "stream",
     "text": [
      "+-----------+-------------+-------------+\n",
      "|KeyOperator| DescOperator|DescKeyPrefix|\n",
      "+-----------+-------------+-------------+\n",
      "|         50|    50-פלאפון|           50|\n",
      "|         52|     52-סלקום|           52|\n",
      "|         53|53-הוט מובייל|           53|\n",
      "|         54|     54-אורנג|           54|\n",
      "|         58|58-גולן טלקום|           58|\n",
      "+-----------+-------------+-------------+\n",
      "\n"
     ]
    }
   ],
   "source": [
    "# DimOperators staging\n",
    "DimOperators_stg = opfileopp_mrr.withColumnRenamed('OPCCC', 'KeyOperator')\\\n",
    "    .withColumn('DescOperator', f.concat_ws('-', f.col('prepre').cast('string'), f.col('OPDDD').cast('string')))\\\n",
    "    .withColumnRenamed('prepre', 'DescKeyPrefix')\\\n",
    "    .select('KeyOperator', 'DescOperator', 'DescKeyPrefix')\n",
    "\n",
    "DimOperators_stg.show(5)"
   ]
  },
  {
   "cell_type": "code",
   "execution_count": 10,
   "metadata": {},
   "outputs": [
    {
     "name": "stdout",
     "output_type": "stream",
     "text": [
      "+-----------+------------------------+-----------------------+-----------------+-------------------+-------------------+\n",
      "|KeyCustomer|DescCustomerLineOperator|DescCustomerLineCountry| DescCustomerName|DescCustomerAddress|DescCusomterPackage|\n",
      "+-----------+------------------------+-----------------------+-----------------+-------------------+-------------------+\n",
      "|          1|                   אורנג|                 Israel|     Eugene Huang|         2243 W St.|    FAMILY packages|\n",
      "|          2|                   אורנג|                 Israel|     Ruben Torres|   5844 Linden Land|    FAMILY packages|\n",
      "|          3|                   אורנג|                 Israel|      Christy Zhu|   1825 Village Pl.|    FAMILY packages|\n",
      "|          4|                   אורנג|                 Israel|Elizabeth Johnson|7553 Harness Circle|    FAMILY packages|\n",
      "|          5|                   אורנג|                 Israel|       Julio Ruiz|7305 Humphrey Drive|    FAMILY packages|\n",
      "+-----------+------------------------+-----------------------+-----------------+-------------------+-------------------+\n",
      "only showing top 5 rows\n",
      "\n"
     ]
    }
   ],
   "source": [
    "# DimCustomers staging\n",
    "DimCustomers_stg = customer_mrr.join(customer_lines_mrr.select('PHONE_NO', 'DESC'), \n",
    "        customer_mrr['CUST_NUMBER'] == customer_lines_mrr['PHONE_NO'], how='inner')\\\n",
    "    .withColumnRenamed('customer_id', 'KeyCustomer')\\\n",
    "    .withColumnRenamed('DESC', 'DescCusomterPackage')\\\n",
    "    .withColumn( 'CustomerLineOperatorPrefixForJoin', f.when(f.length(f.col('PHONE_NO').cast('string')) == 12, f.substr(f.col('PHONE_NO').cast('string'), f.lit(4), f.lit(2)))\\\n",
    "        .otherwise(f.substr(f.col('PHONE_NO').cast('string'), f.lit(2), f.lit(3))))\\\n",
    "    .withColumn('CustomercountryPrefixForJoin', f.when(f.length(f.col('PHONE_NO').cast('string')) == 12,f.substr(f.col('PHONE_NO').cast('string'), f.lit(1), f.lit(3)))\\\n",
    "        .otherwise(f.substr(f.col('PHONE_NO').cast('string'), f.lit(1), f.lit(1))))\\\n",
    "    .withColumnRenamed('cust_name', 'DescCustomerName')\\\n",
    "    .withColumnRenamed('address', 'DescCustomerAddress')\\\n",
    "    .join(opfileopp_mrr.select('OPCCC', 'OPDDD'), f.col('CustomerLineOperatorPrefixForJoin').cast('int') == f.col('OPCCC').cast('int'), how='left')\\\n",
    "    .withColumn('operatorName', f.when(f.isnull(f.col('OPDDD')), 'Unknown').otherwise(f.col('OPDDD')))\\\n",
    "    .withColumnRenamed('operatorName', 'DescCustomerLineOperator')\\\n",
    "    .join(xxCountryType_mrr, f.col('CustomerCountryPrefixForJoin') == f.col('COUNTRY_PRE'), how='left')\\\n",
    "    .withColumn('DescCustomerLineCountry', f.when(f.isnull('COUNTRY_CODE2'), 'Unknown').otherwise(f.col('COUNTRY_CODE2')))\\\n",
    "    .select(\n",
    "        'KeyCustomer', \n",
    "        'DescCustomerLineOperator', \n",
    "        'DescCustomerLineCountry', \n",
    "        'DescCustomerName', \n",
    "        'DescCustomerAddress', \n",
    "        'DescCusomterPackage'\n",
    "    )\n",
    "\n",
    "DimCustomers_stg.show(5)"
   ]
  },
  {
   "cell_type": "code",
   "execution_count": 11,
   "metadata": {},
   "outputs": [
    {
     "name": "stdout",
     "output_type": "stream",
     "text": [
      "+-----------------+------------------+\n",
      "|KeyCallOriginType|DescCallOriginType|\n",
      "+-----------------+------------------+\n",
      "|                1|     Cellular Call|\n",
      "|                0|         Line Call|\n",
      "|                0|         Line Call|\n",
      "|                1|     Cellular Call|\n",
      "|                0|         Line Call|\n",
      "+-----------------+------------------+\n",
      "only showing top 5 rows\n",
      "\n"
     ]
    }
   ],
   "source": [
    "# DimCallOriginType staging\n",
    "DimCallOriginType_stg = usage_main_mrr.withColumn('DescCallOriginType',\n",
    "    f.when(f.col('CELL_ORIGIN') == 1, 'Cellular Call')\\\n",
    "    .when(f.col('CELL_ORIGIN') == 0 , 'Line Call').otherwise('Unknown'))\\\n",
    "    .withColumnRenamed('CELL_ORIGIN', 'KeyCallOriginType')\\\n",
    "    .select('KeyCallOriginType', 'DescCallOriginType')\n",
    "\n",
    "DimCallOriginType_stg.show(5)"
   ]
  },
  {
   "cell_type": "code",
   "execution_count": 12,
   "metadata": {},
   "outputs": [
    {
     "name": "stderr",
     "output_type": "stream",
     "text": [
      "c:\\ProgramData\\anaconda3\\envs\\spark_env_3_11\\Lib\\site-packages\\pyspark\\sql\\pandas\\conversion.py:485: FutureWarning: is_datetime64tz_dtype is deprecated and will be removed in a future version. Check `isinstance(dtype, pd.DatetimeTZDtype)` instead.\n",
      "  if should_localize and is_datetime64tz_dtype(s.dtype) and s.dt.tz is not None:\n"
     ]
    },
    {
     "name": "stdout",
     "output_type": "stream",
     "text": [
      "+--------+-------------------+-------+--------+---------+---------+-------------+-------------+\n",
      "| KeyDate|           FullDate|KeyYear|KeyMonth|CodeMonth|DescMonth|CodeDayInWeek|DescDayInWeek|\n",
      "+--------+-------------------+-------+--------+---------+---------+-------------+-------------+\n",
      "|20150908|2015-09-08 00:00:00|   2015|  201509|        9|September|            8|      Tuesday|\n",
      "|20150909|2015-09-09 00:00:00|   2015|  201509|        9|September|            9|    Wednesday|\n",
      "|20150910|2015-09-10 00:00:00|   2015|  201509|        9|September|           10|     Thursday|\n",
      "|20150911|2015-09-11 00:00:00|   2015|  201509|        9|September|           11|       Friday|\n",
      "|20150912|2015-09-12 00:00:00|   2015|  201509|        9|September|           12|     Saturday|\n",
      "+--------+-------------------+-------+--------+---------+---------+-------------+-------------+\n",
      "only showing top 5 rows\n",
      "\n"
     ]
    }
   ],
   "source": [
    "# DimDate staging\n",
    "start_date = usage_main_mrr.select(f.min(f.col('CALL_DATETIME'))).first()[0]\n",
    "end_date = usage_main_mrr.select(f.max(f.col('CALL_DATETIME'))).first()[0]\n",
    "\n",
    "DimDate_pandas = pd.DataFrame({'FullDate': pd.date_range(start= start_date, end= end_date)})\n",
    "DimDate_stg = spark.createDataFrame(DimDate_pandas)\n",
    "\n",
    "DimDate_stg = DimDate_stg.withColumn('month_string',\n",
    "    f.when(f.month(f.col('FullDate')) < 10, f.concat(f.lit('0'), f.month(f.col('FullDate')))).otherwise(f.month(f.col('FullDate'))))\\\n",
    "    .withColumn('day_string', f.when(f.day(f.col('FullDate')) < 10, f.concat(f.lit('0'), f.day(f.col('FullDate')))).otherwise(f.day(f.col('FullDate'))))\\\n",
    "    .withColumn('KeyDate', f.concat(f.year(f.col('FullDate')), f.col('month_string'), f.col('day_string')))\\\n",
    "    .withColumn('KeyYear',f.year(f.col('FullDate')))\\\n",
    "    .withColumn('KeyMonth', f.concat(f.year('FullDate'), f.col('month_string')))\\\n",
    "    .withColumn('CodeMonth', f.month(f.col('FullDate')))\\\n",
    "    .withColumn('DescMonth', f.date_format(f.col('FullDate'), 'MMMM'))\\\n",
    "    .withColumn('CodeDayInWeek', f.day(f.col('FullDate')))\\\n",
    "    .withColumn('DescDayInWeek', f.date_format(f.col('FullDate'), 'EEEE'))\\\n",
    "    .select(\n",
    "        'KeyDate', \n",
    "        'FullDate', \n",
    "        'KeyYear', \n",
    "        'KeyMonth', \n",
    "        'CodeMonth', \n",
    "        'DescMonth', \n",
    "        'CodeDayInWeek', \n",
    "        'DescDayInWeek'\n",
    "    )#.show(5)\n",
    "\n",
    "DimDate_stg.show(5)"
   ]
  },
  {
   "cell_type": "code",
   "execution_count": 13,
   "metadata": {},
   "outputs": [
    {
     "name": "stdout",
     "output_type": "stream",
     "text": [
      "+------+-----------+-----------+-----------------+----------------+----------------------+----------+-----------+--------+----------------+------+--------------+\n",
      "|CallId|KeyCustomer|KeyCallType|KeyOriginOperator|KeyOriginCountry|KeyDestinationOperator|KeyPackage|KeyCallDate|Duration|BillableDuration|Amount|BillableAmount|\n",
      "+------+-----------+-----------+-----------------+----------------+----------------------+----------+-----------+--------+----------------+------+--------------+\n",
      "|     1|       8544|       1036|            סלקום|          Israel|                    -1|         1|   20190905|       4|             3.0|     0|           0.0|\n",
      "|     2|      10205|       1033|               -1|   United States|                    -1|         1|   20190905|       0|             0.0|     0|           0.0|\n",
      "|     3|      18147|       1036|               -1|   United States|                    -1|         3|   20190905|       1|             1.0|     0|           0.0|\n",
      "|     4|       9327|       1033|            סלקום|          Israel|                 סלקום|         1|   20190905|       5|             3.0|     1|          0.35|\n",
      "|     5|      17731|       1002|               -1|   United States|                    -1|         1|   20190905|       5|             3.0|     2|           0.7|\n",
      "+------+-----------+-----------+-----------------+----------------+----------------------+----------+-----------+--------+----------------+------+--------------+\n",
      "only showing top 5 rows\n",
      "\n"
     ]
    }
   ],
   "source": [
    "# FactUsage staging\n",
    "FactUsage_stg = usage_main_mrr.join(customer_mrr.select(f.col('customer_id')),\n",
    "    f.col('CALL_NO') == f.col('customer_id'), how='inner')\\\n",
    "    .withColumnRenamed('CALL_NO', 'CallId')\\\n",
    "    .withColumnRenamed('CUST_ID', 'KeyCustomer')\\\n",
    "    .join(DimCallTypes_stg.select('KeyCallType', 'DescCallTypeCode'),\n",
    "        f.col('CALL_TYPE') == f.col('DescCallTypeCode'), how='inner')\\\n",
    "    .withColumn('CALLING_NO_operator',\n",
    "        f.when(f.length(f.col('CALLING_NO')) == 12, f.substr(f.col('CALLING_NO'), f.lit(4), f.lit(2))).otherwise(f.substr(f.col('CALLING_NO'), f.lit(2), f.lit(3))))\\\n",
    "    .join(opfileopp_mrr.select('OPCCC', 'OPDDD'),f.col('CALLING_NO_operator') == f.col('OPCCC'), how='left')\\\n",
    "    .withColumn('KeyOriginOperator',f.when(f.isnull(f.col('OPDDD')), f.lit(-1)).otherwise(f.col('OPDDD')))\\\n",
    "    .withColumn('CALLING_NO_country',f.when(f.length(f.col('CALLING_NO')) == 12, f.substr(f.col('CALLING_NO'), f.lit(1), f.lit(3))).otherwise(f.substr(f.col('CALLING_NO'), f.lit(1), f.lit(1))))\\\n",
    "    .join(xxCountryType_mrr, f.col('CALLING_NO_country') == f.col('COUNTRY_PRE'), how='left')\\\n",
    "    .withColumn('KeyOriginCountry',f.when(f.isnull(f.col('COUNTRY_CODE2')), f.lit(-1)).otherwise(f.col('COUNTRY_CODE2')))\\\n",
    "    .withColumn('DES_NO_operator',f.when(f.length(f.col('DES_NO')) == 12, f.substr(f.col('DES_NO'), f.lit(4), f.lit(2))).otherwise(f.substr(f.col('DES_NO'), f.lit(2), f.lit(3))))\\\n",
    "    .join(opfileopp_mrr.select(f.col('OPCCC').alias('OPCCC_DES_NO'), f.col('OPDDD').alias('OPDDD_DES_NO')),f.col('DES_NO_operator') == f.col('OPCCC_DES_NO'), how='left')\\\n",
    "    .withColumn('KeyDestinationOperator', f.when(f.isnull(f.col('OPDDD_DES_NO')), f.lit(-1)).otherwise(f.col('OPDDD_DES_NO')))\\\n",
    "    .join(customer_lines_mrr, f.col('CALLING_NO') == f.col('PHONE_NO'), how='inner')\\\n",
    "    .join(DimPackageCatalog_stg, f.col('TYPE') == f.col('pack_type'), how='inner')\\\n",
    "    .withColumnRenamed('CELL_ORIGIN', 'KeyCallOriginType')\\\n",
    "    .withColumn('month_string',  f.when(f.month(f.col('CALL_DATETIME')) < 10, f.concat(f.lit('0'), f.month(f.col('CALL_DATETIME')))).otherwise(f.month(f.col('CALL_DATETIME'))))\\\n",
    "    .withColumn('day_string', f.when(f.day(f.col('CALL_DATETIME')) < 10, f.concat(f.lit('0'), f.day(f.col('CALL_DATETIME')))).otherwise(f.day(f.col('CALL_DATETIME'))))\\\n",
    "    .withColumn('KeyCallDate', f.concat(f.year(f.col('CALL_DATETIME')), f.col('month_string'), f.col('day_string')))\\\n",
    "    .withColumnRenamed('DURATION', 'Duration')\\\n",
    "    .withColumn('BillableDuration', f.col('Duration') - f.col('numberoffreeminutes'))\\\n",
    "    .withColumnRenamed('RATED_AMNT', 'Amount')\\\n",
    "    .withColumn('BillableAmount', f.when( (f.col('discountpct') == 0) | (f.isnull(f.col('discountpct'))), f.col('Amount')).otherwise(f.col('Amount')*f.col('discountpct')/(100)))\\\n",
    "    .select(\n",
    "        'CallId', \n",
    "        'KeyCustomer', \n",
    "        'KeyCallType', \n",
    "        'KeyOriginOperator', \n",
    "        'KeyOriginCountry', \n",
    "        'KeyDestinationOperator', \n",
    "        'KeyPackage',\n",
    "        'KeyCallDate',\n",
    "        'Duration',\n",
    "        'BillableDuration',\n",
    "        'Amount',\n",
    "        'BillableAmount'\n",
    "        )#.show(5)\n",
    "\n",
    "FactUsage_stg.show(5)"
   ]
  },
  {
   "cell_type": "markdown",
   "metadata": {},
   "source": [
    "# Part 3: DWH - create incremetal load queries to load the transformed data"
   ]
  },
  {
   "cell_type": "code",
   "execution_count": 14,
   "metadata": {},
   "outputs": [],
   "source": [
    "# creating false target df's for i=0 (keep schema)\n",
    "DimCallTypes = DimCallTypes_stg.filter(f.lit(2) == f.lit(1))\n",
    "DimCountries = DimCountries_stg.filter(f.lit(2) == f.lit(1))\n",
    "DimPackageCatalog = DimPackageCatalog_stg.filter(f.lit(2) == f.lit(1))\n",
    "DimOperators = DimOperators_stg.filter(f.lit(2) == f.lit(1))\n",
    "DimCustomers = DimCustomers_stg.filter(f.lit(2) == f.lit(1))\n",
    "DimCallOriginType = DimCallOriginType_stg.filter(f.lit(2) == f.lit(1))\n",
    "DimDate = DimDate_stg.filter(f.lit(2) == f.lit(1))\n",
    "FactUsage = FactUsage_stg.filter(f.lit(2) == f.lit(1))"
   ]
  },
  {
   "cell_type": "code",
   "execution_count": 15,
   "metadata": {},
   "outputs": [
    {
     "name": "stdout",
     "output_type": "stream",
     "text": [
      "root\n",
      " |-- KeyCallType: integer (nullable = false)\n",
      " |-- DescCallTypeCode: string (nullable = true)\n",
      " |-- DescCallType: string (nullable = true)\n",
      " |-- DescFullCallType: string (nullable = false)\n",
      " |-- DescCallTypePriceCategory: string (nullable = false)\n",
      " |-- DescCallTypeCategory: string (nullable = true)\n",
      "\n",
      "+-----------+----------------+------------------+--------------------+-------------------------+--------------------+\n",
      "|KeyCallType|DescCallTypeCode|      DescCallType|    DescFullCallType|DescCallTypePriceCategory|DescCallTypeCategory|\n",
      "+-----------+----------------+------------------+--------------------+-------------------------+--------------------+\n",
      "|       1001|              3W|    Three-way call|   3W-Three-way call|         Discounted Price|               Voice|\n",
      "|       1002|              AC|Audio Conferencing|AC-Audio Conferen...|             Normal Price|               Voice|\n",
      "|       1003|            CALL|     Cellular Call|  CALL-Cellular Call|         Discounted Price|               Voice|\n",
      "|       1004|              CF|   Call Forwarding|  CF-Call Forwarding|         Discounted Price|               Voice|\n",
      "|       1005|              CW|      Call Waiting|     CW-Call Waiting|         Discounted Price|               Voice|\n",
      "+-----------+----------------+------------------+--------------------+-------------------------+--------------------+\n",
      "only showing top 5 rows\n",
      "\n"
     ]
    }
   ],
   "source": [
    "# DimCallType incremental load\n",
    "DimCallTypes.printSchema()\n",
    "\n",
    "# get all new records\n",
    "DimCallTypes_insert = DimCallTypes_stg.alias('src').join(DimCallTypes.alias('trg'), f.col('src.KeyCallType') == f.col('trg.KeyCallType'), how='leftanti')\\\n",
    "    .select(\n",
    "        f.col('src.KeyCallType'),\n",
    "        f.col('src.DescCallTypeCode'),\n",
    "        f.col('src.DescCallType'),\n",
    "        f.col('src.DescFullCallType'),\n",
    "        f.col('src.DescCallTypePriceCategory'),\n",
    "        f.col('src.DescCallTypeCategory')\n",
    "    )\n",
    "\n",
    "# get all records to update\n",
    "DimCallTypes_updated = DimCallTypes_stg.alias('src').join(DimCallTypes.alias('trg'), f.col('src.KeyCallType') == f.col('trg.KeyCallType'), how='inner')\\\n",
    "    .select(\n",
    "        f.col('src.KeyCallType'),\n",
    "        f.col('src.DescCallTypeCode'),\n",
    "        f.col('src.DescCallType'),\n",
    "        f.col('src.DescFullCallType'),\n",
    "        f.col('src.DescCallTypePriceCategory'),\n",
    "        f.col('src.DescCallTypeCategory')\n",
    "    )\n",
    "\n",
    "# add all the new records\n",
    "DimCallTypes = DimCallTypes.union(DimCallTypes_insert).union(DimCallTypes_updated).distinct()\n",
    "DimCallTypes.show(5)"
   ]
  },
  {
   "cell_type": "code",
   "execution_count": 16,
   "metadata": {},
   "outputs": [
    {
     "name": "stdout",
     "output_type": "stream",
     "text": [
      "root\n",
      " |-- KeyCountry: long (nullable = true)\n",
      " |-- DescCountry: string (nullable = true)\n",
      " |-- DescRegion: string (nullable = true)\n",
      " |-- DescArea: string (nullable = true)\n",
      "\n"
     ]
    },
    {
     "name": "stdout",
     "output_type": "stream",
     "text": [
      "+----------+-----------+----------+---------------+\n",
      "|KeyCountry|DescCountry|DescRegion|       DescArea|\n",
      "+----------+-----------+----------+---------------+\n",
      "|        66|   Thailand|      Asia|South East Asia|\n",
      "|       252|    Somalia|    Africa| Eastern Africa|\n",
      "|       994| Azerbaijan|      Asia|South West Asia|\n",
      "|       237|   Cameroon|    Africa| Western Africa|\n",
      "|       961|    Lebanon|      Asia|South West Asia|\n",
      "+----------+-----------+----------+---------------+\n",
      "only showing top 5 rows\n",
      "\n"
     ]
    }
   ],
   "source": [
    "# DimCountries incremental load\n",
    "DimCountries.printSchema()\n",
    "\n",
    "# get all new records\n",
    "DimCountries_insert = DimCountries_stg.alias('src').join(DimCountries.alias('trg'), f.col('src.KeyCountry') == f.col('trg.KeyCountry'), how='leftanti')\\\n",
    "    .select(\n",
    "        f.col('src.KeyCountry'),\n",
    "        f.col('src.DescCountry'),\n",
    "        f.col('src.DescRegion'),\n",
    "        f.col('src.DescArea')\n",
    "    )#.show()\n",
    "\n",
    "# get all updated records\n",
    "DimCountries_updated = DimCountries_stg.alias('src').join(DimCountries.alias('trg'), f.col('src.KeyCountry') == f.col('trg.KeyCountry'), how='inner')\\\n",
    "    .select(\n",
    "        f.col('src.KeyCountry'),\n",
    "        f.col('src.DescCountry'),\n",
    "        f.col('src.DescRegion'),\n",
    "        f.col('src.DescArea')\n",
    "    )\n",
    "\n",
    "# add all new recoreds\n",
    "DimCountries = DimCountries.union(DimCountries_insert).union(DimCountries_updated).distinct()\n",
    "DimCountries.show(5)"
   ]
  },
  {
   "cell_type": "code",
   "execution_count": 17,
   "metadata": {},
   "outputs": [
    {
     "name": "stdout",
     "output_type": "stream",
     "text": [
      "root\n",
      " |-- KeyPackage: long (nullable = true)\n",
      " |-- DatePackageCreation: string (nullable = true)\n",
      " |-- DatePackageEnd: string (nullable = true)\n",
      " |-- status: long (nullable = true)\n",
      " |-- pack_type: string (nullable = true)\n",
      " |-- DescPackage: string (nullable = true)\n",
      " |-- insert_date: string (nullable = true)\n",
      " |-- update_date: string (nullable = true)\n",
      " |-- DescPackageStatus: string (nullable = false)\n",
      " |-- CodePackageActivitiesDays: integer (nullable = true)\n",
      "\n",
      "+----------+--------------------+--------------+------+---------+--------------------+--------------------+--------------------+-----------------+-------------------------+\n",
      "|KeyPackage| DatePackageCreation|DatePackageEnd|status|pack_type|         DescPackage|         insert_date|         update_date|DescPackageStatus|CodePackageActivitiesDays|\n",
      "+----------+--------------------+--------------+------+---------+--------------------+--------------------+--------------------+-----------------+-------------------------+\n",
      "|         4|2012-01-22 00:00:...|    2015-01-23|     0| SOLDIERS|   Soldiers pay less|2012-01-22 00:00:...|2015-01-23 00:00:...|         Inactive|                     1097|\n",
      "|         2|2014-01-15 16:28:...|          NULL|     1|  FRIENDS|friends pay more ...|2014-01-15 16:28:...|2014-01-15 16:28:...|           Active|                     NULL|\n",
      "|         3|2014-01-15 16:28:...|          NULL|     1| BUSINESS|business man pay ...|2014-01-15 16:28:...|2014-01-15 16:28:...|           Active|                     NULL|\n",
      "|         1|2014-01-15 16:28:...|          NULL|     1|   FAMILY|pay much more get...|2014-01-15 16:28:...|2014-01-15 16:28:...|           Active|                     NULL|\n",
      "+----------+--------------------+--------------+------+---------+--------------------+--------------------+--------------------+-----------------+-------------------------+\n",
      "\n"
     ]
    }
   ],
   "source": [
    "# DimPackageCatalog incremental load\n",
    "DimPackageCatalog.printSchema()\n",
    "\n",
    "# gel all new records\n",
    "DimPackageCatalog_insert = DimPackageCatalog_stg.alias('src').join(DimPackageCatalog.alias('trg'), f.col('src.KeyPackage') == f.col('trg.KeyPackage'), how='leftanti')\\\n",
    "    .select(\n",
    "        f.col('src.KeyPackage'),\n",
    "        f.col('src.DatePackageCreation'),\n",
    "        f.col('src.DatePackageEnd'),\n",
    "        f.col('src.status'),\n",
    "        f.col('src.pack_type'),\n",
    "        f.col('src.DescPackage'),\n",
    "        f.col('src.insert_date'),\n",
    "        f.col('src.update_date'),\n",
    "        f.col('src.DescPackageStatus'),\n",
    "        f.col('src.CodePackageActivitiesDays')\n",
    "    )#.show(5)\n",
    "\n",
    "# get all updated records\n",
    "DimPackageCatalog_update = DimPackageCatalog_stg.alias('src').join(DimPackageCatalog.alias('trg'), f.col('src.KeyPackage') == f.col('trg.KeyPackage'), how='inner')\\\n",
    "    .select(\n",
    "        f.col('src.KeyPackage'),\n",
    "        f.col('src.DatePackageCreation'),\n",
    "        f.col('src.DatePackageEnd'),\n",
    "        f.col('src.status'),\n",
    "        f.col('src.pack_type'),\n",
    "        f.col('src.DescPackage'),\n",
    "        f.col('src.insert_date'),\n",
    "        f.col('src.update_date'),\n",
    "        f.col('src.DescPackageStatus'),\n",
    "        f.col('src.CodePackageActivitiesDays')\n",
    "    )#.show(5)\n",
    "\n",
    "# add all new records\n",
    "DimPackageCatalog = DimPackageCatalog.union(DimPackageCatalog_insert).union(DimPackageCatalog_update).distinct()\n",
    "DimPackageCatalog.show(5)"
   ]
  },
  {
   "cell_type": "code",
   "execution_count": 18,
   "metadata": {},
   "outputs": [
    {
     "name": "stdout",
     "output_type": "stream",
     "text": [
      "root\n",
      " |-- KeyOperator: long (nullable = true)\n",
      " |-- DescOperator: string (nullable = false)\n",
      " |-- DescKeyPrefix: long (nullable = true)\n",
      "\n",
      "+-----------+-------------+-------------+\n",
      "|KeyOperator| DescOperator|DescKeyPrefix|\n",
      "+-----------+-------------+-------------+\n",
      "|         54|     54-אורנג|           54|\n",
      "|         52|     52-סלקום|           52|\n",
      "|         50|    50-פלאפון|           50|\n",
      "|         58|58-גולן טלקום|           58|\n",
      "|         53|53-הוט מובייל|           53|\n",
      "+-----------+-------------+-------------+\n",
      "\n"
     ]
    }
   ],
   "source": [
    "# DimOperators incremental load\n",
    "DimOperators.printSchema()\n",
    "\n",
    "# get all new records\n",
    "DimOperators_insert = DimOperators_stg.alias('src').join(DimOperators.alias('trg'), f.col('src.KeyOperator') == f.col('trg.KeyOperator'), how='leftanti')\\\n",
    "    .select(\n",
    "        f.col('src.KeyOperator'),\n",
    "        f.col('src.DescOperator'),\n",
    "        f.col('src.DescKeyPrefix')\n",
    "    )#.show(5)\n",
    "\n",
    "# get all updated records\n",
    "DimOperators_updated = DimOperators_stg.alias('src').join(DimOperators.alias('trg'), f.col('src.KeyOperator') == f.col('trg.KeyOperator'), how='inner')\\\n",
    "    .select(\n",
    "        f.col('src.KeyOperator'),\n",
    "        f.col('src.DescOperator'),\n",
    "        f.col('src.DescKeyPrefix')\n",
    "    )#.show(5)\n",
    "\n",
    "# add all records\n",
    "DimOperators = DimOperators.union(DimOperators_insert).union(DimOperators_updated).distinct()\n",
    "DimOperators.show(5)"
   ]
  },
  {
   "cell_type": "code",
   "execution_count": 19,
   "metadata": {},
   "outputs": [
    {
     "name": "stdout",
     "output_type": "stream",
     "text": [
      "root\n",
      " |-- KeyCustomer: long (nullable = true)\n",
      " |-- DescCustomerLineOperator: string (nullable = true)\n",
      " |-- DescCustomerLineCountry: string (nullable = true)\n",
      " |-- DescCustomerName: string (nullable = true)\n",
      " |-- DescCustomerAddress: string (nullable = true)\n",
      " |-- DescCusomterPackage: string (nullable = true)\n",
      "\n",
      "+-----------+------------------------+-----------------------+----------------+--------------------+-------------------+\n",
      "|KeyCustomer|DescCustomerLineOperator|DescCustomerLineCountry|DescCustomerName| DescCustomerAddress|DescCusomterPackage|\n",
      "+-----------+------------------------+-----------------------+----------------+--------------------+-------------------+\n",
      "|        525|                   אורנג|                 Israel|   Latasha Munoz|    4799 Buena Vista|    FAMILY packages|\n",
      "|        759|                   אורנג|                 Israel|Kimberly Stewart| 6289 Via Del Verdes|    FAMILY packages|\n",
      "|        764|                   אורנג|                 Israel|    Christy Zhou|      7527 Brook Way|    FAMILY packages|\n",
      "|        963|                   אורנג|                 Israel|  Cesar McDonald|54, rue Philibert...|    FAMILY packages|\n",
      "|       1163|                   אורנג|                 Israel| Savannah Parker|8098 Virginia Circle|    FAMILY packages|\n",
      "+-----------+------------------------+-----------------------+----------------+--------------------+-------------------+\n",
      "only showing top 5 rows\n",
      "\n"
     ]
    }
   ],
   "source": [
    "# DimCustomers incremental load\n",
    "DimCustomers.printSchema()\n",
    "\n",
    "# get all new records\n",
    "DimCustomers_insert = DimCustomers_stg.alias('src').join(DimCustomers.alias('trg'), f.col('src.KeyCustomer') == f.col('trg.KeyCustomer'), how='leftanti')\\\n",
    "    .select(\n",
    "        f.col('src.KeyCustomer'),\n",
    "        f.col('src.DescCustomerLineOperator'),\n",
    "        f.col('src.DescCustomerLineCountry'),\n",
    "        f.col('src.DescCustomerName'),\n",
    "        f.col('src.DescCustomerAddress'),\n",
    "        f.col('src.DescCusomterPackage')\n",
    "    )#.show(5)\n",
    "\n",
    "# get all updated records\n",
    "DimCustomers_updated = DimCustomers_stg.alias('src').join(DimCustomers.alias('trg'), f.col('src.KeyCustomer') == f.col('trg.KeyCustomer'), how='inner')\\\n",
    "    .select(\n",
    "        f.col('src.KeyCustomer'),\n",
    "        f.col('src.DescCustomerLineOperator'),\n",
    "        f.col('src.DescCustomerLineCountry'),\n",
    "        f.col('src.DescCustomerName'),\n",
    "        f.col('src.DescCustomerAddress'),\n",
    "        f.col('src.DescCusomterPackage')\n",
    "    )#.show(5)\n",
    "\n",
    "DimCustomers = DimCustomers.union(DimCustomers_insert).union(DimCustomers_updated).distinct()\n",
    "DimCustomers.show(5)"
   ]
  },
  {
   "cell_type": "code",
   "execution_count": 20,
   "metadata": {},
   "outputs": [
    {
     "name": "stdout",
     "output_type": "stream",
     "text": [
      "root\n",
      " |-- KeyCallOriginType: long (nullable = true)\n",
      " |-- DescCallOriginType: string (nullable = false)\n",
      "\n",
      "+-----------------+------------------+\n",
      "|KeyCallOriginType|DescCallOriginType|\n",
      "+-----------------+------------------+\n",
      "|                1|     Cellular Call|\n",
      "|                0|         Line Call|\n",
      "+-----------------+------------------+\n",
      "\n"
     ]
    }
   ],
   "source": [
    "# DimCallOriginType incremental load\n",
    "DimCallOriginType.printSchema()\n",
    "\n",
    "# get all new records\n",
    "DimCallOriginType_insert = DimCallOriginType_stg.alias('src').join(DimCallOriginType.alias('trg'), f.col('src.KeyCallOriginType') == f.col('trg.KeyCallOriginType'), how='leftanti')\\\n",
    "    .select(\n",
    "        f.col('src.KeyCallOriginType'),\n",
    "        f.col('src.DescCallOriginType')\n",
    "    )#.show(5)\n",
    "\n",
    "# get all updated records\n",
    "DimCallOriginType_updated = DimCallOriginType_stg.alias('src').join(DimCallOriginType.alias('trg'), f.col('src.KeyCallOriginType') == f.col('trg.KeyCallOriginType'), how='inner')\\\n",
    "    .select(\n",
    "        f.col('src.KeyCallOriginType'),\n",
    "        f.col('src.DescCallOriginType')\n",
    "    )#.show(5)\n",
    "\n",
    "# add all new records\n",
    "DimCallOriginType = DimCallOriginType.union(DimCallOriginType_insert).union(DimCallOriginType_updated).distinct()\n",
    "DimCallOriginType.show(5)"
   ]
  },
  {
   "cell_type": "code",
   "execution_count": 21,
   "metadata": {},
   "outputs": [
    {
     "name": "stdout",
     "output_type": "stream",
     "text": [
      "root\n",
      " |-- KeyDate: string (nullable = true)\n",
      " |-- FullDate: timestamp (nullable = true)\n",
      " |-- KeyYear: integer (nullable = true)\n",
      " |-- KeyMonth: string (nullable = true)\n",
      " |-- CodeMonth: integer (nullable = true)\n",
      " |-- DescMonth: string (nullable = true)\n",
      " |-- CodeDayInWeek: integer (nullable = true)\n",
      " |-- DescDayInWeek: string (nullable = true)\n",
      "\n",
      "+--------+-------------------+-------+--------+---------+---------+-------------+-------------+\n",
      "| KeyDate|           FullDate|KeyYear|KeyMonth|CodeMonth|DescMonth|CodeDayInWeek|DescDayInWeek|\n",
      "+--------+-------------------+-------+--------+---------+---------+-------------+-------------+\n",
      "|20151101|2015-11-01 00:00:00|   2015|  201511|       11| November|            1|       Sunday|\n",
      "|20150924|2015-09-24 00:00:00|   2015|  201509|        9|September|           24|     Thursday|\n",
      "|20151206|2015-12-06 00:00:00|   2015|  201512|       12| December|            6|       Sunday|\n",
      "|20160120|2016-01-20 00:00:00|   2016|  201601|        1|  January|           20|    Wednesday|\n",
      "|20151221|2015-12-21 00:00:00|   2015|  201512|       12| December|           21|       Monday|\n",
      "+--------+-------------------+-------+--------+---------+---------+-------------+-------------+\n",
      "only showing top 5 rows\n",
      "\n"
     ]
    }
   ],
   "source": [
    "# DimDate incremental load\n",
    "DimDate.printSchema()\n",
    "\n",
    "# get all new records\n",
    "DimDate_insert = DimDate_stg.alias('src').join(DimDate.alias('trg'), f.col('src.KeyDate') == f.col('trg.KeyDate'), how='leftanti')\\\n",
    "    .select(\n",
    "        f.col('src.KeyDate'),\n",
    "        f.col('src.FullDate'),\n",
    "        f.col('src.KeyYear'),\n",
    "        f.col('src.KeyMonth'),\n",
    "        f.col('src.CodeMonth'),\n",
    "        f.col('src.DescMonth'),\n",
    "        f.col('src.CodeDayInWeek'),\n",
    "        f.col('src.DescDayInWeek'),\n",
    "    )#.show(5)\n",
    "\n",
    "# get all updated records\n",
    "DimDate_updated = DimDate_stg.alias('src').join(DimDate.alias('trg'), f.col('src.KeyDate') == f.col('trg.KeyDate'), how='inner')\\\n",
    "    .select(\n",
    "        f.col('src.KeyDate'),\n",
    "        f.col('src.FullDate'),\n",
    "        f.col('src.KeyYear'),\n",
    "        f.col('src.KeyMonth'),\n",
    "        f.col('src.CodeMonth'),\n",
    "        f.col('src.DescMonth'),\n",
    "        f.col('src.CodeDayInWeek'),\n",
    "        f.col('src.DescDayInWeek'),\n",
    "    )#.show(5)\n",
    "\n",
    "# add all records\n",
    "DimDate = DimDate.union(DimDate_insert).union(DimDate_updated).distinct()\n",
    "DimDate.show(5)"
   ]
  },
  {
   "cell_type": "code",
   "execution_count": 22,
   "metadata": {},
   "outputs": [
    {
     "name": "stdout",
     "output_type": "stream",
     "text": [
      "root\n",
      " |-- CallId: long (nullable = true)\n",
      " |-- KeyCustomer: long (nullable = true)\n",
      " |-- KeyCallType: integer (nullable = false)\n",
      " |-- KeyOriginOperator: string (nullable = true)\n",
      " |-- KeyOriginCountry: string (nullable = true)\n",
      " |-- KeyDestinationOperator: string (nullable = true)\n",
      " |-- KeyPackage: long (nullable = true)\n",
      " |-- KeyCallDate: string (nullable = true)\n",
      " |-- Duration: long (nullable = true)\n",
      " |-- BillableDuration: double (nullable = true)\n",
      " |-- Amount: long (nullable = true)\n",
      " |-- BillableAmount: double (nullable = true)\n",
      "\n",
      "+------+-----------+-----------+-----------------+----------------+----------------------+----------+-----------+--------+----------------+------+--------------+\n",
      "|CallId|KeyCustomer|KeyCallType|KeyOriginOperator|KeyOriginCountry|KeyDestinationOperator|KeyPackage|KeyCallDate|Duration|BillableDuration|Amount|BillableAmount|\n",
      "+------+-----------+-----------+-----------------+----------------+----------------------+----------+-----------+--------+----------------+------+--------------+\n",
      "|   346|       8684|       1035|            סלקום|          Israel|                 סלקום|         1|   20161217|       4|             3.0|     0|           0.0|\n",
      "|   480|      12747|       1027|               -1|   United States|                    -1|         1|   20150909|       2|             2.0|     0|           0.0|\n",
      "|    14|       4311|       1036|            סלקום|          Israel|                    -1|         1|   20190905|       4|             3.0|     0|           0.0|\n",
      "|   227|       8681|       1014|            סלקום|          Israel|                 אורנג|         1|   20180324|       4|             3.0|     1|          0.35|\n",
      "|   160|       5036|       1004|            סלקום|          Israel|                    -1|         1|   20180528|       6|             4.0|     5|          1.75|\n",
      "+------+-----------+-----------+-----------------+----------------+----------------------+----------+-----------+--------+----------------+------+--------------+\n",
      "only showing top 5 rows\n",
      "\n"
     ]
    }
   ],
   "source": [
    "# FactUsage incremental load\n",
    "FactUsage.printSchema()\n",
    "\n",
    "# get all new records\n",
    "FactUsage_insert = FactUsage_stg.alias('src').join(FactUsage.alias('trg'), f.col('src.CallId') == f.col('trg.CallId'), how='leftanti')\\\n",
    "    .select(\n",
    "        f.col('src.CallId'),\n",
    "        f.col('src.KeyCustomer'),\n",
    "        f.col('src.KeyCallType'),\n",
    "        f.col('src.KeyOriginOperator'),\n",
    "        f.col('src.KeyOriginCountry'),\n",
    "        f.col('src.KeyDestinationOperator'),\n",
    "        f.col('src.KeyPackage'),\n",
    "        f.col('src.KeyCallDate'),\n",
    "        f.col('src.Duration'),\n",
    "        f.col('src.BillableDuration'),\n",
    "        f.col('src.Amount'),\n",
    "        f.col('src.BillableAmount')\n",
    "    )#.show(5)\n",
    "\n",
    "# get all updated records\n",
    "FactUsage_updated = FactUsage_stg.alias('src').join(FactUsage.alias('trg'), f.col('src.CallId') == f.col('trg.CallId'), how='inner')\\\n",
    "    .select(\n",
    "        f.col('src.CallId'),\n",
    "        f.col('src.KeyCustomer'),\n",
    "        f.col('src.KeyCallType'),\n",
    "        f.col('src.KeyOriginOperator'),\n",
    "        f.col('src.KeyOriginCountry'),\n",
    "        f.col('src.KeyDestinationOperator'),\n",
    "        f.col('src.KeyPackage'),\n",
    "        f.col('src.KeyCallDate'),\n",
    "        f.col('src.Duration'),\n",
    "        f.col('src.BillableDuration'),\n",
    "        f.col('src.Amount'),\n",
    "        f.col('src.BillableAmount')\n",
    "    )#.show(5)\n",
    "\n",
    "FactUsage = FactUsage.union(FactUsage_insert).union(FactUsage_updated).distinct()\n",
    "FactUsage.show(5)"
   ]
  }
 ],
 "metadata": {
  "kernelspec": {
   "display_name": "spark_env_3_11",
   "language": "python",
   "name": "python3"
  },
  "language_info": {
   "codemirror_mode": {
    "name": "ipython",
    "version": 3
   },
   "file_extension": ".py",
   "mimetype": "text/x-python",
   "name": "python",
   "nbconvert_exporter": "python",
   "pygments_lexer": "ipython3",
   "version": "3.11.6"
  }
 },
 "nbformat": 4,
 "nbformat_minor": 2
}
