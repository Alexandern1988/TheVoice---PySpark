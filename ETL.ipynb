{
 "cells": [
  {
   "cell_type": "code",
   "execution_count": 1,
   "metadata": {},
   "outputs": [],
   "source": [
    "import pandas as pd \n",
    "import numpy as np\n",
    "import sqlalchemy\n",
    "import pyodbc\n",
    "\n",
    "import findspark\n",
    "findspark.init()\n",
    "findspark.find()\n",
    "\n",
    "from pyspark.sql import SparkSession\n",
    "import pyspark.sql.functions as f\n",
    "import pyspark.sql.window as w\n",
    "import pyspark.sql.types as t"
   ]
  },
  {
   "cell_type": "code",
   "execution_count": 2,
   "metadata": {},
   "outputs": [],
   "source": [
    "spark = SparkSession.builder.appName('TheVoice-ETL').getOrCreate()"
   ]
  },
  {
   "cell_type": "code",
   "execution_count": 3,
   "metadata": {},
   "outputs": [],
   "source": [
    "# Load into dataframes\n",
    "call_type_mrr =         spark.read.parquet(r'C:\\Users\\alex\\Desktop\\TheVoice - PySpark\\parquet_files\\call_type.parquet')\n",
    "countries_mrr =         spark.read.parquet(r'C:\\Users\\alex\\Desktop\\TheVoice - PySpark\\parquet_files\\countries.parquet')\n",
    "customer_mrr =          spark.read.parquet(r'C:\\Users\\alex\\Desktop\\TheVoice - PySpark\\parquet_files\\customer.parquet')\n",
    "customer_invoice_mrr =  spark.read.parquet(r'C:\\Users\\alex\\Desktop\\TheVoice - PySpark\\parquet_files\\customer_invoice.parquet')\n",
    "customer_lines_mrr =    spark.read.parquet(r'C:\\Users\\alex\\Desktop\\TheVoice - PySpark\\parquet_files\\customer_lines.parquet')\n",
    "opfileopp_mrr =         spark.read.parquet(r'C:\\Users\\alex\\Desktop\\TheVoice - PySpark\\parquet_files\\pfileopp.parquet')\n",
    "package_catalog_mrr =   spark.read.parquet(r'C:\\Users\\alex\\Desktop\\TheVoice - PySpark\\parquet_files\\package_catalog.parquet')\n",
    "usage_main_mrr =        spark.read.parquet(r'C:\\Users\\alex\\Desktop\\TheVoice - PySpark\\parquet_files\\usage_main.parquet')\n",
    "xxCountryType_mrr =     spark.read.parquet(r'C:\\Users\\alex\\Desktop\\TheVoice - PySpark\\parquet_files\\xxCountryType.parquet')"
   ]
  },
  {
   "cell_type": "code",
   "execution_count": 4,
   "metadata": {},
   "outputs": [],
   "source": [
    "# DimCallTypes staging\n",
    "\n",
    "# variable set\n",
    "price_per_minute = 0.5\n",
    "\n",
    "# window for the key column\n",
    "windowSpec_callType = w.Window.orderBy('call_type_code')\n",
    "\n",
    "# final df \n",
    "DimCallTypes_stg = call_type_mrr.withColumn('KeyCallType', f.row_number().over(windowSpec_callType) + 1000)\\\n",
    "    .withColumnRenamed('call_type_code', 'DescCallTypeCode')\\\n",
    "    .withColumnRenamed('call_type_desc', 'DescCallType')\\\n",
    "    .withColumn('DescFullCallType', \n",
    "        f.concat_ws('-', f.col('DescCallTypeCode'), f.col('DescCallType')))\\\n",
    "    .withColumn('DescCallTypePriceCategory', f.when(f.col('priceperminuter') > price_per_minute, 'Discounted Price').otherwise('Normal Price'))\\\n",
    "    .withColumnRenamed('call_type', 'DescCallTypeCategory')\\\n",
    "    .select('KeyCallType', 'DescCallTypeCode', 'DescCallType', 'DescFullCallType', 'DescCallTypePriceCategory', 'DescCallTypeCategory')#.show()\n"
   ]
  },
  {
   "cell_type": "code",
   "execution_count": 5,
   "metadata": {},
   "outputs": [],
   "source": [
    "# DimCountries staging\n",
    "\n",
    "# select proper column and rename the country code column\n",
    "xxCountryType_mrr = xxCountryType_mrr.select('COUNTRY_CODE', 'COUNTRY_PRE').withColumnRenamed('COUNTRY_CODE','COUNTRY_CODE2')\n",
    "\n",
    "# final df\n",
    "DimCountries_stg = countries_mrr.select('COUNTRY_CODE', 'REGION', 'AREA').join(\n",
    "    xxCountryType_mrr,\n",
    "    countries_mrr['COUNTRY_CODE'] == xxCountryType_mrr['COUNTRY_CODE2'],\n",
    "    how='inner')\\\n",
    "    .withColumnRenamed('COUNTRY_PRE', 'KeyCountry')\\\n",
    "    .withColumnRenamed('COUNTRY_CODE', 'DescCountry')\\\n",
    "    .withColumnRenamed('REGION', 'DescRegion')\\\n",
    "    .withColumnRenamed('AREA', 'DescArea')\\\n",
    "    .select('KeyCountry', 'DescCountry', 'DescRegion', 'DescArea')#.show(5)"
   ]
  },
  {
   "cell_type": "code",
   "execution_count": 6,
   "metadata": {},
   "outputs": [
    {
     "name": "stdout",
     "output_type": "stream",
     "text": [
      "+-----------+--------------------+----------+------+---------+--------------------+--------------------+--------------------+\n",
      "|PACKAGE_NUM|          createdate|   enddate|status|pack_type|           pack_desc|         insert_date|         update_date|\n",
      "+-----------+--------------------+----------+------+---------+--------------------+--------------------+--------------------+\n",
      "|          1|2014-01-15 16:28:...|      NULL|     1|   FAMILY|pay much more get...|2014-01-15 16:28:...|2014-01-15 16:28:...|\n",
      "|          2|2014-01-15 16:28:...|      NULL|     1|  FRIENDS|friends pay more ...|2014-01-15 16:28:...|2014-01-15 16:28:...|\n",
      "|          3|2014-01-15 16:28:...|      NULL|     1| BUSINESS|business man pay ...|2014-01-15 16:28:...|2014-01-15 16:28:...|\n",
      "|          4|2012-01-22 00:00:...|2015-01-23|     0| SOLDIERS|   Soldiers pay less|2012-01-22 00:00:...|2015-01-23 00:00:...|\n",
      "+-----------+--------------------+----------+------+---------+--------------------+--------------------+--------------------+\n",
      "\n"
     ]
    }
   ],
   "source": [
    "package_catalog_mrr.show(5)"
   ]
  },
  {
   "cell_type": "code",
   "execution_count": 11,
   "metadata": {},
   "outputs": [],
   "source": [
    "# DimPackageCatalog staging\n",
    "DimPackageCatalog_stg = package_catalog_mrr.withColumnRenamed('PACKAGE_NUM','KeyPackage')\\\n",
    ".withColumnRenamed('pack_desc', 'DescPackage')\\\n",
    ".withColumnRenamed('createdate', 'DatePackageCreation')\\\n",
    ".withColumnRenamed('enddate', 'DatePackageEnd')\\\n",
    ".withColumn('DescPackageStatus',\n",
    "    f.when(f.col('status') == 1, 'Active').otherwise('Inactive'))\\\n",
    ".withColumn('CodePackageActivitiesDays', f.date_diff(f.col('DatePackageEnd'), f.col('DatePackageCreation')))\n"
   ]
  }
 ],
 "metadata": {
  "kernelspec": {
   "display_name": "spark_env_3_11",
   "language": "python",
   "name": "python3"
  },
  "language_info": {
   "codemirror_mode": {
    "name": "ipython",
    "version": 3
   },
   "file_extension": ".py",
   "mimetype": "text/x-python",
   "name": "python",
   "nbconvert_exporter": "python",
   "pygments_lexer": "ipython3",
   "version": "3.11.6"
  }
 },
 "nbformat": 4,
 "nbformat_minor": 2
}
