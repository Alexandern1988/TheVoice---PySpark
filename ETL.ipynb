{
 "cells": [
  {
   "cell_type": "code",
   "execution_count": 72,
   "metadata": {},
   "outputs": [],
   "source": [
    "import pandas as pd \n",
    "import numpy as np\n",
    "import sqlalchemy\n",
    "import pyodbc\n",
    "\n",
    "import findspark\n",
    "findspark.init()\n",
    "findspark.find()\n",
    "\n",
    "from pyspark.sql import SparkSession\n",
    "import pyspark.sql.functions as f\n",
    "import pyspark.sql.window as w\n",
    "import pyspark.sql.types as t\n",
    "import pyspark.pandas as ps"
   ]
  },
  {
   "cell_type": "code",
   "execution_count": 15,
   "metadata": {},
   "outputs": [],
   "source": [
    "spark = SparkSession.builder.appName('TheVoice-ETL').getOrCreate()"
   ]
  },
  {
   "cell_type": "code",
   "execution_count": 16,
   "metadata": {},
   "outputs": [],
   "source": [
    "# Load into dataframes\n",
    "call_type_mrr =         spark.read.parquet(r'C:\\Users\\alex\\Desktop\\TheVoice - PySpark\\TheVoice - parquet_files\\call_type.parquet')\n",
    "countries_mrr =         spark.read.parquet(r'C:\\Users\\alex\\Desktop\\TheVoice - PySpark\\TheVoice - parquet_files\\countries.parquet')\n",
    "customer_mrr =          spark.read.parquet(r'C:\\Users\\alex\\Desktop\\TheVoice - PySpark\\TheVoice - parquet_files\\customer.parquet')\n",
    "customer_invoice_mrr =  spark.read.parquet(r'C:\\Users\\alex\\Desktop\\TheVoice - PySpark\\TheVoice - parquet_files\\customer_invoice.parquet')\n",
    "customer_lines_mrr =    spark.read.parquet(r'C:\\Users\\alex\\Desktop\\TheVoice - PySpark\\TheVoice - parquet_files\\customer_lines.parquet')\n",
    "opfileopp_mrr =         spark.read.parquet(r'C:\\Users\\alex\\Desktop\\TheVoice - PySpark\\TheVoice - parquet_files\\pfileopp.parquet')\n",
    "package_catalog_mrr =   spark.read.parquet(r'C:\\Users\\alex\\Desktop\\TheVoice - PySpark\\TheVoice - parquet_files\\package_catalog.parquet')\n",
    "usage_main_mrr =        spark.read.parquet(r'C:\\Users\\alex\\Desktop\\TheVoice - PySpark\\TheVoice - parquet_files\\usage_main.parquet')\n",
    "xxCountryType_mrr =     spark.read.parquet(r'C:\\Users\\alex\\Desktop\\TheVoice - PySpark\\TheVoice - parquet_files\\xxCountryType.parquet')"
   ]
  },
  {
   "cell_type": "code",
   "execution_count": 17,
   "metadata": {},
   "outputs": [],
   "source": [
    "# DimCallTypes staging\n",
    "\n",
    "# variable set\n",
    "price_per_minute = 0.5\n",
    "\n",
    "# window for the key column\n",
    "windowSpec_callType = w.Window.orderBy('call_type_code')\n",
    "\n",
    "# final df \n",
    "DimCallTypes_stg = call_type_mrr.withColumn('KeyCallType', f.row_number().over(windowSpec_callType) + 1000)\\\n",
    "    .withColumnRenamed('call_type_code', 'DescCallTypeCode')\\\n",
    "    .withColumnRenamed('call_type_desc', 'DescCallType')\\\n",
    "    .withColumn('DescFullCallType', \n",
    "        f.concat_ws('-', f.col('DescCallTypeCode'), f.col('DescCallType')))\\\n",
    "    .withColumn('DescCallTypePriceCategory', f.when(f.col('priceperminuter') > price_per_minute, 'Discounted Price').otherwise('Normal Price'))\\\n",
    "    .withColumnRenamed('call_type', 'DescCallTypeCategory')\\\n",
    "    .select(\n",
    "        'KeyCallType', \n",
    "        'DescCallTypeCode', \n",
    "        'DescCallType', \n",
    "        'DescFullCallType', \n",
    "        'DescCallTypePriceCategory', \n",
    "        'DescCallTypeCategory'\n",
    "    )#.show()\n"
   ]
  },
  {
   "cell_type": "code",
   "execution_count": 18,
   "metadata": {},
   "outputs": [],
   "source": [
    "# DimCountries staging\n",
    "\n",
    "# select proper column and rename the country code column\n",
    "xxCountryType_mrr = xxCountryType_mrr.select('COUNTRY_CODE', 'COUNTRY_PRE').withColumnRenamed('COUNTRY_CODE','COUNTRY_CODE2')\n",
    "\n",
    "# final df\n",
    "DimCountries_stg = countries_mrr.select('COUNTRY_CODE', 'REGION', 'AREA').join(\n",
    "    xxCountryType_mrr,\n",
    "    countries_mrr['COUNTRY_CODE'] == xxCountryType_mrr['COUNTRY_CODE2'],\n",
    "    how='inner')\\\n",
    "    .withColumnRenamed('COUNTRY_PRE', 'KeyCountry')\\\n",
    "    .withColumnRenamed('COUNTRY_CODE', 'DescCountry')\\\n",
    "    .withColumnRenamed('REGION', 'DescRegion')\\\n",
    "    .withColumnRenamed('AREA', 'DescArea')\\\n",
    "    .select('KeyCountry', 'DescCountry', 'DescRegion', 'DescArea')#.show(5)"
   ]
  },
  {
   "cell_type": "code",
   "execution_count": 19,
   "metadata": {},
   "outputs": [],
   "source": [
    "# DimPackageCatalog staging\n",
    "DimPackageCatalog_stg = package_catalog_mrr.withColumnRenamed('PACKAGE_NUM','KeyPackage')\\\n",
    ".withColumnRenamed('pack_desc', 'DescPackage')\\\n",
    ".withColumnRenamed('createdate', 'DatePackageCreation')\\\n",
    ".withColumnRenamed('enddate', 'DatePackageEnd')\\\n",
    ".withColumn('DescPackageStatus',\n",
    "    f.when(f.col('status') == 1, 'Active').otherwise('Inactive'))\\\n",
    ".withColumn('CodePackageActivitiesDays', f.date_diff(f.col('DatePackageEnd'), f.col('DatePackageCreation')))"
   ]
  },
  {
   "cell_type": "code",
   "execution_count": 20,
   "metadata": {},
   "outputs": [
    {
     "name": "stdout",
     "output_type": "stream",
     "text": [
      "+-----+----------+------+\n",
      "|OPCCC|     OPDDD|prepre|\n",
      "+-----+----------+------+\n",
      "|   50|    פלאפון|    50|\n",
      "|   52|     סלקום|    52|\n",
      "|   53|הוט מובייל|    53|\n",
      "|   54|     אורנג|    54|\n",
      "|   58|גולן טלקום|    58|\n",
      "+-----+----------+------+\n",
      "\n"
     ]
    }
   ],
   "source": [
    "opfileopp_mrr.show(n=5)"
   ]
  },
  {
   "cell_type": "code",
   "execution_count": 21,
   "metadata": {},
   "outputs": [],
   "source": [
    "# DimOperators staging\n",
    "DimOperators_stg = opfileopp_mrr.withColumnRenamed('OPCCC', 'KeyOperator')\\\n",
    "    .withColumn('DescOperator', f.concat_ws('-', f.col('prepre').cast('string'), f.col('OPDDD').cast('string')))\\\n",
    "    .withColumnRenamed('prepre', 'DescKeyPrefix')\\\n",
    "    .select('KeyOperator', 'DescOperator', 'DescKeyPrefix')"
   ]
  },
  {
   "cell_type": "code",
   "execution_count": 57,
   "metadata": {},
   "outputs": [],
   "source": [
    "# DimCustomers staging\n",
    "customer_mrr = spark.read.parquet(r'C:\\Users\\alex\\Desktop\\TheVoice - PySpark\\TheVoice - parquet_files\\customer.parquet')\n",
    "DimCustomers_stg = customer_mrr.join(customer_lines_mrr.select('PHONE_NO', 'DESC'), \n",
    "        customer_mrr['CUST_NUMBER'] == customer_lines_mrr['PHONE_NO'], how='inner')\\\n",
    "    .withColumnRenamed('customer_id', 'KeyCustomer')\\\n",
    "    .withColumnRenamed('DESC', 'DescCusomterPackage')\\\n",
    "    .withColumn( 'CustomerLineOperatorPrefixForJoin',\n",
    "        f.when(f.length(f.col('PHONE_NO').cast('string')) == 12, \n",
    "            f.substr(f.col('PHONE_NO').cast('string'), f.lit(4), f.lit(2)))\\\n",
    "            .otherwise(f.substr(f.col('PHONE_NO').cast('string'), f.lit(2), f.lit(3)))\n",
    "    )\\\n",
    "    .withColumn('CustomercountryPrefixForJoin',\n",
    "        f.when(f.length(f.col('PHONE_NO').cast('string')) == 12, \n",
    "            f.substr(f.col('PHONE_NO').cast('string'), f.lit(1), f.lit(3)))\\\n",
    "            .otherwise(f.substr(f.col('PHONE_NO').cast('string'), f.lit(1), f.lit(1)))\n",
    "    )\\\n",
    "    .withColumnRenamed('cust_name', 'DescCustomerName')\\\n",
    "    .withColumnRenamed('address', 'DescCustomerAddress')\\\n",
    "    .join(opfileopp_mrr.select('OPCCC', 'OPDDD'),#\n",
    "        f.col('CustomerLineOperatorPrefixForJoin').cast('int') == f.col('OPCCC').cast('int'), how='left')\\\n",
    "    .withColumn('operatorName',\n",
    "         f.when(f.isnull(f.col('OPDDD')), 'Unknown').otherwise(f.col('OPDDD')))\\\n",
    "    .withColumnRenamed('operatorName', 'DescCustomerLineOperator')\\\n",
    "    .join(xxCountryType_mrr,\n",
    "        f.col('CustomerCountryPrefixForJoin') == f.col('COUNTRY_PRE'), how='left'\n",
    "    )\\\n",
    "    .withColumn('DescCustomerLineCountry',\n",
    "        f.when(f.isnull('COUNTRY_CODE2'), 'Unknown').otherwise(f.col('COUNTRY_CODE2'))\n",
    "    )\\\n",
    "    .select(\n",
    "        'KeyCustomer', \n",
    "        'DescCustomerLineOperator', \n",
    "        'DescCustomerLineCountry', \n",
    "        'DescCustomerName', \n",
    "        'DescCustomerAddress', \n",
    "        'DescCusomterPackage'\n",
    "    )\n",
    "    #.orderBy(f.col('CustomerLineOperatorPrefixForJoin').asc())"
   ]
  },
  {
   "cell_type": "code",
   "execution_count": 63,
   "metadata": {},
   "outputs": [],
   "source": [
    "DimCallOriginType_stg = usage_main_mrr.withColumn('DescCallOriginType',\n",
    "    f.when(f.col('CELL_ORIGIN') == 1, 'Cellular Call')\\\n",
    "    .when(f.col('CELL_ORIGIN') == 0 , 'Cellular Call').otherwise('Unknown')\n",
    ").withColumnRenamed('CELL_ORIGIN', 'KeyCallOriginType')\\\n",
    ".select('KeyCallOriginType', 'DescCallOriginType')"
   ]
  },
  {
   "cell_type": "code",
   "execution_count": 107,
   "metadata": {},
   "outputs": [],
   "source": [
    "# DimDate staging\n",
    "start_date = usage_main_mrr.select(f.min(f.col('CALL_DATETIME'))).first()[0]\n",
    "end_date = usage_main_mrr.select(f.max(f.col('CALL_DATETIME'))).first()[0]\n",
    "\n",
    "DimDate_pandas = pd.DataFrame({'FullDate': pd.date_range(start= start_date, end= end_date)})\n",
    "DimDate_stg = spark.createDataFrame(DimDate_pandas)\n",
    "\n",
    "DimDate_stg = DimDate_stg.withColumn('month_string',\n",
    "    f.when(f.month(f.col('FullDate')) < 10, f.concat(f.lit('0'), f.month(f.col('FullDate'))))\\\n",
    "    .otherwise(f.month(f.col('FullDate')))\n",
    ")\\\n",
    ".withColumn('day_string',\n",
    "    f.when(f.day(f.col('FullDate')) < 10, f.concat(f.lit('0'), f.day(f.col('FullDate'))))\\\n",
    "    .otherwise(f.day(f.col('FullDate')))\n",
    ")\\\n",
    ".withColumn('KeyDate', f.concat(f.year(f.col('FullDate')), f.col('month_string'), f.col('day_string')))\\\n",
    ".withColumn('KeyYear',f.year(f.col('FullDate')))\\\n",
    ".withColumn('KeyMonth', f.concat(f.year('FullDate'), f.col('month_string')))\\\n",
    ".withColumn('CodeMonth', f.month(f.col('FullDate')))\\\n",
    ".withColumn('DescMonth', f.date_format(f.col('FullDate'), 'MMMM'))\\\n",
    ".withColumn('CodeDayInWeek', f.day(f.col('FullDate')))\\\n",
    ".withColumn('DescDayInWeek', f.date_format(f.col('FullDate'), 'EEEE'))\\\n",
    ".select(\n",
    "    'KeyDate', \n",
    "    'FullDate', \n",
    "    'KeyYear', \n",
    "    'KeyMonth', \n",
    "    'CodeMonth', \n",
    "    'DescMonth', \n",
    "    'CodeDayInWeek', \n",
    "    'DescDayInWeek'\n",
    ")#.show(5)"
   ]
  },
  {
   "cell_type": "code",
   "execution_count": 64,
   "metadata": {},
   "outputs": [
    {
     "data": {
      "text/plain": [
       "['CALL_NO',\n",
       " 'ANSWER_TIME',\n",
       " 'SEIZED_TIME',\n",
       " 'DISCONNECT_TIME',\n",
       " 'CALL_DATETIME',\n",
       " 'CALLING_NO',\n",
       " 'CALLED_NO',\n",
       " 'DES_NO',\n",
       " 'DURATION',\n",
       " 'CUST_ID',\n",
       " 'CALL_TYPE',\n",
       " 'PROD_TYPE',\n",
       " 'RATED_AMNT',\n",
       " 'RATED_CURR_CODE',\n",
       " 'CELL',\n",
       " 'CELL_ORIGIN',\n",
       " 'HIGH_LOW_RATE',\n",
       " 'insert_DATE',\n",
       " 'update_date']"
      ]
     },
     "execution_count": 64,
     "metadata": {},
     "output_type": "execute_result"
    }
   ],
   "source": []
  }
 ],
 "metadata": {
  "kernelspec": {
   "display_name": "spark_env_3_11",
   "language": "python",
   "name": "python3"
  },
  "language_info": {
   "codemirror_mode": {
    "name": "ipython",
    "version": 3
   },
   "file_extension": ".py",
   "mimetype": "text/x-python",
   "name": "python",
   "nbconvert_exporter": "python",
   "pygments_lexer": "ipython3",
   "version": "3.11.6"
  }
 },
 "nbformat": 4,
 "nbformat_minor": 2
}
